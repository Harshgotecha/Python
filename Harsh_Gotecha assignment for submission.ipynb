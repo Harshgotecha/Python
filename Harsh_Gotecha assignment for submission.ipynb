{
 "cells": [
  {
   "cell_type": "markdown",
   "id": "1755a362",
   "metadata": {},
   "source": [
    "# Harsh_Gotecha_ BKBI_MBA_15"
   ]
  },
  {
   "cell_type": "markdown",
   "id": "437c6352",
   "metadata": {},
   "source": [
    "# Assignment for numeric "
   ]
  },
  {
   "cell_type": "markdown",
   "id": "eeb2f78b-90ae-4fc2-b3aa-4c401853ca9d",
   "metadata": {},
   "source": [
    "# Write a Python function to find the maximum of three numbers from the given list"
   ]
  },
  {
   "cell_type": "code",
   "execution_count": 3,
   "id": "d199bcb1-be94-4c7a-9a54-b659ef6a3b6a",
   "metadata": {},
   "outputs": [
    {
     "data": {
      "text/plain": [
       "3"
      ]
     },
     "execution_count": 3,
     "metadata": {},
     "output_type": "execute_result"
    }
   ],
   "source": [
    "h = 1,2,3,2,1\n",
    "max(h)"
   ]
  },
  {
   "cell_type": "markdown",
   "id": "354cdfff",
   "metadata": {},
   "source": [
    "# 2. Write a Python function to sum all the numbers in a list.\n",
    "Sample List : (8, 2, 3, 0, 7)\n",
    "    "
   ]
  },
  {
   "cell_type": "code",
   "execution_count": 3,
   "id": "abaa1e94",
   "metadata": {},
   "outputs": [
    {
     "data": {
      "text/plain": [
       "20"
      ]
     },
     "execution_count": 3,
     "metadata": {},
     "output_type": "execute_result"
    }
   ],
   "source": [
    "a = (8, 2, 3, 0, 7)\n",
    "sum(a)"
   ]
  },
  {
   "cell_type": "markdown",
   "id": "a375c1d1",
   "metadata": {},
   "source": [
    "# 3. Write a Python function to multiply all the numbers in a list.\n",
    "Sample List : (8, 2, 3, -1, 7)"
   ]
  },
  {
   "cell_type": "code",
   "execution_count": 5,
   "id": "fb9607fd",
   "metadata": {},
   "outputs": [
    {
     "data": {
      "text/plain": [
       "-336"
      ]
     },
     "execution_count": 5,
     "metadata": {},
     "output_type": "execute_result"
    }
   ],
   "source": [
    "8*2*3*-1*7"
   ]
  },
  {
   "cell_type": "raw",
   "id": "68111a40",
   "metadata": {},
   "source": [
    "4. Comment whether the given variables are valid or invalid:\n",
    "age        yes\n",
    "_age       yes\n",
    "Age      yes\n",
    "Invalid   yes\n",
    "1age       no\n",
    "Valid    yes\n",
    "_age     yes\n",
    "age_      yes \n",
    "age_*     no\n",
    "+age       no\n",
    "age       no\n",
    "Age1      yes\n",
    "AGE1      yes\n",
    "Age2      yes\n",
    "pass      no\n",
    "break     no\n",
    "continue  no\n",
    "list      no\n",
    "list.     no\n",
    "etc       yes\n",
    "print     no\n",
    "_print    yes"
   ]
  },
  {
   "cell_type": "markdown",
   "id": "8d1fc6e6",
   "metadata": {},
   "source": [
    "# 5. Evaluate following expressions:"
   ]
  },
  {
   "cell_type": "code",
   "execution_count": 8,
   "id": "9aba49c1",
   "metadata": {},
   "outputs": [
    {
     "data": {
      "text/plain": [
       "1.0"
      ]
     },
     "execution_count": 8,
     "metadata": {},
     "output_type": "execute_result"
    }
   ],
   "source": [
    "7 - 24 / 8 * 4 + 6 "
   ]
  },
  {
   "cell_type": "code",
   "execution_count": 9,
   "id": "91bd59b6",
   "metadata": {},
   "outputs": [
    {
     "data": {
      "text/plain": [
       "9.0"
      ]
     },
     "execution_count": 9,
     "metadata": {},
     "output_type": "execute_result"
    }
   ],
   "source": [
    "18 / 3 - 7 + 2 * 5"
   ]
  },
  {
   "cell_type": "code",
   "execution_count": 11,
   "id": "be234fd5",
   "metadata": {},
   "outputs": [
    {
     "data": {
      "text/plain": [
       "2.0"
      ]
     },
     "execution_count": 11,
     "metadata": {},
     "output_type": "execute_result"
    }
   ],
   "source": [
    "6 * 4 / 12 + 72 / 8 - 9"
   ]
  },
  {
   "cell_type": "code",
   "execution_count": 13,
   "id": "0815aff0",
   "metadata": {},
   "outputs": [
    {
     "data": {
      "text/plain": [
       "26.0"
      ]
     },
     "execution_count": 13,
     "metadata": {},
     "output_type": "execute_result"
    }
   ],
   "source": [
    "(17 - 6 / 2) + 4 * 3"
   ]
  },
  {
   "cell_type": "code",
   "execution_count": 19,
   "id": "cbd5569e",
   "metadata": {},
   "outputs": [
    {
     "data": {
      "text/plain": [
       "4.0"
      ]
     },
     "execution_count": 19,
     "metadata": {},
     "output_type": "execute_result"
    }
   ],
   "source": [
    "(3 * 5 **2 / 15) - (5 - 2 ** 2 )"
   ]
  },
  {
   "cell_type": "code",
   "execution_count": 21,
   "id": "967b3496",
   "metadata": {},
   "outputs": [
    {
     "data": {
      "text/plain": [
       "81.25"
      ]
     },
     "execution_count": 21,
     "metadata": {},
     "output_type": "execute_result"
    }
   ],
   "source": [
    "(22 / 2 - 2.5)** 2 + ( 4 - 6 / 6) ** 2"
   ]
  },
  {
   "cell_type": "markdown",
   "id": "6cafa4f4",
   "metadata": {},
   "source": [
    "# Variables Assignment"
   ]
  },
  {
   "cell_type": "markdown",
   "id": "f5714ed9",
   "metadata": {},
   "source": [
    "# 1. Write a python program to calculate the area of a rectangle given its length and width."
   ]
  },
  {
   "cell_type": "code",
   "execution_count": 13,
   "id": "bc8c9e35",
   "metadata": {},
   "outputs": [
    {
     "name": "stdout",
     "output_type": "stream",
     "text": [
      "Enter the length of rectengle12\n",
      "Enter the width of rectengle25\n"
     ]
    }
   ],
   "source": [
    "length = int(input(\"Enter the length of rectengle\"))\n",
    "width = int(input(\"Enter the width of rectengle\")) "
   ]
  },
  {
   "cell_type": "code",
   "execution_count": 16,
   "id": "9168994f",
   "metadata": {},
   "outputs": [
    {
     "name": "stdout",
     "output_type": "stream",
     "text": [
      "Area of a rectangle is 300\n"
     ]
    }
   ],
   "source": [
    "print(\"Area of a rectangle is\",length*width)\n"
   ]
  },
  {
   "cell_type": "markdown",
   "id": "3670c1f4",
   "metadata": {},
   "source": [
    "# 2. Create a Program that takes a user's name and birth year as input and prints a greeting message.\n",
    "I/P: Enter User Name : Tushar\n",
    "Enter Year of Birth : 1990\n",
    "O/P: Hi Tushar, Today you are 23 years Old, Welcome!"
   ]
  },
  {
   "cell_type": "code",
   "execution_count": 1,
   "id": "38f749af",
   "metadata": {},
   "outputs": [
    {
     "name": "stdout",
     "output_type": "stream",
     "text": [
      "Enter user nameHarsh\n",
      "Enter year of birth21\n",
      "Hi Harsh, Today you are 21 years old, welcome!\n"
     ]
    }
   ],
   "source": [
    "name= input(\"Enter user name\")\n",
    "birth= input(\"Enter year of birth\")\n",
    "\n",
    "\n",
    "print(f'Hi {name}, Today you are {birth} years old, welcome!')\n"
   ]
  },
  {
   "cell_type": "markdown",
   "id": "d6691129",
   "metadata": {},
   "source": [
    "# 3. Calculate the compound interest for a given principal amount, interest rate and time period"
   ]
  },
  {
   "cell_type": "code",
   "execution_count": 1,
   "id": "743790e5",
   "metadata": {},
   "outputs": [
    {
     "name": "stdout",
     "output_type": "stream",
     "text": [
      "Enter the principal20000\n",
      "Enter the rate12\n",
      "Enter the years2\n"
     ]
    },
    {
     "data": {
      "text/plain": [
       "5088.000000000004"
      ]
     },
     "execution_count": 1,
     "metadata": {},
     "output_type": "execute_result"
    }
   ],
   "source": [
    "principal = int(input(\"Enter the principal\"))\n",
    "rate = int(input(\"Enter the rate\"))\n",
    "years = int(input(\"Enter the years\"))\n",
    "\n",
    "Compound_int= principal*(1+(rate/100))**years-principal\n",
    "Compound_int\n",
    "\n"
   ]
  },
  {
   "cell_type": "markdown",
   "id": "e47f0bc3",
   "metadata": {},
   "source": [
    "# 4. Implement a program that swaps the values of two variables with the help of third variable."
   ]
  },
  {
   "cell_type": "code",
   "execution_count": 1,
   "id": "eadc7589",
   "metadata": {},
   "outputs": [
    {
     "data": {
      "text/plain": [
       "(2, 1)"
      ]
     },
     "execution_count": 1,
     "metadata": {},
     "output_type": "execute_result"
    }
   ],
   "source": [
    "a = 1 + 2\n",
    "b = a - 2\n",
    "a = a - b\n",
    "\n",
    "a,b"
   ]
  },
  {
   "cell_type": "markdown",
   "id": "38dfb890",
   "metadata": {},
   "source": [
    "# 5. Write a Python Program to calculate cube of the number"
   ]
  },
  {
   "cell_type": "code",
   "execution_count": 1,
   "id": "4a8e1ff5",
   "metadata": {},
   "outputs": [
    {
     "name": "stdout",
     "output_type": "stream",
     "text": [
      "Enter the value5\n",
      "125\n"
     ]
    },
    {
     "data": {
      "text/plain": [
       "125"
      ]
     },
     "execution_count": 1,
     "metadata": {},
     "output_type": "execute_result"
    }
   ],
   "source": [
    "h= int(input(\"Enter the value\"))\n",
    "\n",
    "print(h**3)\n",
    "pow(h,3)"
   ]
  },
  {
   "cell_type": "markdown",
   "id": "1c1b129e",
   "metadata": {},
   "source": [
    "# 6. Create variables for storing a Person's name, age and average test score."
   ]
  },
  {
   "cell_type": "code",
   "execution_count": 1,
   "id": "91f13b26",
   "metadata": {},
   "outputs": [
    {
     "name": "stdout",
     "output_type": "stream",
     "text": [
      "Enter you nameharsh\n",
      "Enter your age20\n",
      "Enter your average test score50\n",
      "Hi harsh, your age is 20 and your average test score is 50\n"
     ]
    }
   ],
   "source": [
    "personalname = input(\"Enter you name\")\n",
    "age = input(\"Enter your age\")\n",
    "avgscore= input(\"Enter your average test score\")\n",
    "\n",
    "print(f'Hi {personalname}, your age is {age} and your average test score is {avgscore}')\n"
   ]
  },
  {
   "cell_type": "markdown",
   "id": "2513d5c8",
   "metadata": {},
   "source": [
    "# 7. Create a Program that takes a temperature in Celcius and converts it to Kelvin.\n",
    " "
   ]
  },
  {
   "cell_type": "code",
   "execution_count": 2,
   "id": "d6d82f30",
   "metadata": {},
   "outputs": [
    {
     "name": "stdout",
     "output_type": "stream",
     "text": [
      "celcius is 5\n",
      "Kelvin is  1365.75\n"
     ]
    }
   ],
   "source": [
    "celcius = int(input(\"celcius is \"))\n",
    "\n",
    "print(\"Kelvin is \",celcius * 273.15)\n"
   ]
  },
  {
   "cell_type": "markdown",
   "id": "0c0a69ce",
   "metadata": {},
   "source": [
    "# 8. Calculate the area and circumference of a circle given its radius.\n",
    " "
   ]
  },
  {
   "cell_type": "code",
   "execution_count": 1,
   "id": "94349303",
   "metadata": {},
   "outputs": [
    {
     "name": "stdout",
     "output_type": "stream",
     "text": [
      "Enter the R value1231\n"
     ]
    },
    {
     "data": {
      "text/plain": [
       "(4760646.985136796, 7734.60111313858)"
      ]
     },
     "execution_count": 1,
     "metadata": {},
     "output_type": "execute_result"
    }
   ],
   "source": [
    "r= int(input(\"Enter the R value\"))\n",
    "\n",
    "area = 3.14159265359*r**2\n",
    "\n",
    "\n",
    "circumference = 2*3.14159265359*r\n",
    "area, circumference \n"
   ]
  },
  {
   "cell_type": "markdown",
   "id": "ee10dfcc",
   "metadata": {},
   "source": [
    "# 9. Implement a Program that converts a given number of minutes into hours and minutes.\n",
    "Sample I/P : 130 Minutes\n",
    "O/P : 1 Hour 10 Minutes"
   ]
  },
  {
   "cell_type": "code",
   "execution_count": 12,
   "id": "e92fee27",
   "metadata": {},
   "outputs": [
    {
     "name": "stdout",
     "output_type": "stream",
     "text": [
      "Enter the minutes130\n",
      "2 hour 10 minute\n"
     ]
    }
   ],
   "source": [
    "minutes = int(input(\"Enter the minutes\"))\n",
    "\n",
    "hour = int(minutes/60)\n",
    "\n",
    "minute = minutes%60\n",
    "\n",
    "print(hour,'hour',minute,'minute')"
   ]
  },
  {
   "cell_type": "markdown",
   "id": "9289c6f0",
   "metadata": {},
   "source": [
    "# 10. Write a Program that converts a given number of days into years, weeks, and days.\n",
    "Sample I/P : 375 Days\n",
    "O/P : 1 Years, 1 Week, 3 Days"
   ]
  },
  {
   "cell_type": "code",
   "execution_count": 5,
   "id": "f57ef228",
   "metadata": {},
   "outputs": [
    {
     "name": "stdout",
     "output_type": "stream",
     "text": [
      "Enter number of day375\n",
      "1 Years 1 week 3 days\n"
     ]
    }
   ],
   "source": [
    "day = int(input(\"Enter number of day\"))\n",
    "\n",
    "year = day//365\n",
    "week = day%365//7\n",
    "day = day%365%7\n",
    "\n",
    "print(year,'Years',week,'week',day,'days')"
   ]
  },
  {
   "cell_type": "markdown",
   "id": "8778611a",
   "metadata": {},
   "source": [
    "# 11. Implement a program that swaps the values of two variables without using 3rd variable."
   ]
  },
  {
   "cell_type": "code",
   "execution_count": null,
   "id": "3b073e0c",
   "metadata": {},
   "outputs": [],
   "source": []
  },
  {
   "cell_type": "markdown",
   "id": "c1026c77",
   "metadata": {},
   "source": [
    "# 12. Write a Program to check the data type of below variables:"
   ]
  },
  {
   "cell_type": "code",
   "execution_count": 13,
   "id": "73482aaf",
   "metadata": {},
   "outputs": [
    {
     "data": {
      "text/plain": [
       "(float, float, str, str, str, bool, complex, int, str)"
      ]
     },
     "execution_count": 13,
     "metadata": {},
     "output_type": "execute_result"
    }
   ],
   "source": [
    "a = 1.90\n",
    "b = 5/45\n",
    "c = \"DSA\"\n",
    "d = 'Amir'\n",
    "e = 'True'\n",
    "f = True\n",
    "g = 7 + 2j\n",
    "h = 3712332\n",
    "i = '2023-08-04'\n",
    "\n",
    "type(a), type(b), type(c),type(d),type(e),type(f),type(g),type(h),type(i)"
   ]
  },
  {
   "cell_type": "markdown",
   "id": "28a962f0",
   "metadata": {},
   "source": [
    "# String Assignments \n"
   ]
  },
  {
   "cell_type": "markdown",
   "id": "e2529769",
   "metadata": {},
   "source": [
    "# 1. Write a Python program to get a string from a given string where all occurrences of its first char have been changed to '$', except the first char itself.\n",
    "\n",
    "Sample String : 'restart'\n",
    "Expected Result : 'resta$t'"
   ]
  },
  {
   "cell_type": "code",
   "execution_count": 23,
   "id": "76477762",
   "metadata": {},
   "outputs": [
    {
     "name": "stdout",
     "output_type": "stream",
     "text": [
      "resta$t\n"
     ]
    }
   ],
   "source": [
    "a = '$'\n",
    "print(f'resta{a}t')"
   ]
  },
  {
   "cell_type": "markdown",
   "id": "12b43044",
   "metadata": {},
   "source": [
    "# 2. Write a Python program to calculate the length of a string and print a message.\n",
    "Sample String : 'Hello WOrld!'"
   ]
  },
  {
   "cell_type": "code",
   "execution_count": 44,
   "id": "1d94a18f",
   "metadata": {},
   "outputs": [
    {
     "data": {
      "text/plain": [
       "(11, 'hello world')"
      ]
     },
     "execution_count": 44,
     "metadata": {},
     "output_type": "execute_result"
    }
   ],
   "source": [
    "h = (\"hello world\")\n",
    "\n",
    "len(h), h"
   ]
  },
  {
   "cell_type": "markdown",
   "id": "a600b311",
   "metadata": {},
   "source": [
    "# 3. Write a Python program to get a single string from two given strings, separated by a space and swap the first two characters of each string.\n",
    "Sample String : 'abc', 'xyz'\n",
    "Expected Result : 'xyc abz'"
   ]
  },
  {
   "cell_type": "code",
   "execution_count": 7,
   "id": "e99c73e8",
   "metadata": {},
   "outputs": [
    {
     "data": {
      "text/plain": [
       "'xyc abz'"
      ]
     },
     "execution_count": 7,
     "metadata": {},
     "output_type": "execute_result"
    }
   ],
   "source": [
    "message = ('abc', 'xyz')\n",
    "' '.join(message).replace(\"abc\",\"xyc\").replace(\"xyz\",\"abz\")"
   ]
  },
  {
   "cell_type": "markdown",
   "id": "0070cd72",
   "metadata": {},
   "source": [
    "# 4. Write a Python program to add 'ing' at the end of a given string\n",
    "Sample String : 'play'\n",
    "Expected Result : 'playing'"
   ]
  },
  {
   "cell_type": "code",
   "execution_count": 26,
   "id": "cc92b765",
   "metadata": {},
   "outputs": [
    {
     "name": "stdout",
     "output_type": "stream",
     "text": [
      "playing\n"
     ]
    }
   ],
   "source": [
    "a = \"play\"\n",
    "b = \"ing\" \n",
    "\n",
    "print(a+b)"
   ]
  },
  {
   "cell_type": "markdown",
   "id": "6a46ef49",
   "metadata": {},
   "source": [
    "# 5. Write a Python program to find the first appearance of the substrings 'not' and 'poor' in a given string below.\n",
    "String : 'The lyrics is not that poor! It is Pathetic not poor!'"
   ]
  },
  {
   "cell_type": "code",
   "execution_count": 5,
   "id": "b1f9867a",
   "metadata": {},
   "outputs": [
    {
     "data": {
      "text/plain": [
       "(15, 23)"
      ]
     },
     "execution_count": 5,
     "metadata": {},
     "output_type": "execute_result"
    }
   ],
   "source": [
    "h = 'the substrings not and poor in a given string below'\n",
    "\n",
    "h.find('not'), h.find('poor')\n"
   ]
  },
  {
   "cell_type": "markdown",
   "id": "3535b4f3",
   "metadata": {},
   "source": [
    "# 6. Write a Python program to remove the nth index character from a nonempty string."
   ]
  },
  {
   "cell_type": "code",
   "execution_count": 30,
   "id": "385fe95f",
   "metadata": {},
   "outputs": [
    {
     "data": {
      "text/plain": [
       "['51', '545', '561', '5', '1515', '1', '54', '1']"
      ]
     },
     "execution_count": 30,
     "metadata": {},
     "output_type": "execute_result"
    }
   ],
   "source": [
    "h = \"51 545 561 5 1515 1 54 1\"\n",
    "h.split()\n"
   ]
  },
  {
   "cell_type": "markdown",
   "id": "536b21f2",
   "metadata": {},
   "source": [
    "# 7. Write a Python program to change a given string to a newly string where the first and last chars have been exchanged.\n",
    "Sample String : 'donkey'\n",
    "Expected Result : 'yonked'"
   ]
  },
  {
   "cell_type": "code",
   "execution_count": 28,
   "id": "a12a9048",
   "metadata": {},
   "outputs": [
    {
     "name": "stdout",
     "output_type": "stream",
     "text": [
      "yonked\n"
     ]
    }
   ],
   "source": [
    "h = 'donkey'\n",
    "d= 'y'\n",
    "y= 'd'\n",
    "print(f'{d}onke{y}')"
   ]
  },
  {
   "cell_type": "markdown",
   "id": "71f4884c",
   "metadata": {},
   "source": [
    "# 8. Write a Python function to get a string made of 4 copies of the last two characters of a specified string (length must be at least 2).\n",
    "Sample String : 'Python'\n",
    "Expected Result : 'onononon'"
   ]
  },
  {
   "cell_type": "code",
   "execution_count": 35,
   "id": "c1f5997b",
   "metadata": {},
   "outputs": [
    {
     "data": {
      "text/plain": [
       "'onononon'"
      ]
     },
     "execution_count": 35,
     "metadata": {},
     "output_type": "execute_result"
    }
   ],
   "source": [
    "a = 'Python'\n",
    "a[-2::1]*4"
   ]
  },
  {
   "cell_type": "markdown",
   "id": "6385c008",
   "metadata": {},
   "source": [
    "# 9. Write a Python program to get the last character of string"
   ]
  },
  {
   "cell_type": "code",
   "execution_count": 38,
   "id": "ab969369",
   "metadata": {},
   "outputs": [
    {
     "data": {
      "text/plain": [
       "'n'"
      ]
     },
     "execution_count": 38,
     "metadata": {},
     "output_type": "execute_result"
    }
   ],
   "source": [
    "a = 'Python'\n",
    "\n",
    "a[-1]"
   ]
  },
  {
   "cell_type": "markdown",
   "id": "7859bd7a",
   "metadata": {},
   "source": [
    "# 10. Write a Python function to reverse a string\n",
    "Sample String : 'lame'\n",
    "Expected Result : 'emal'"
   ]
  },
  {
   "cell_type": "code",
   "execution_count": 33,
   "id": "f25792c4",
   "metadata": {},
   "outputs": [
    {
     "data": {
      "text/plain": [
       "'emal'"
      ]
     },
     "execution_count": 33,
     "metadata": {},
     "output_type": "execute_result"
    }
   ],
   "source": [
    "a = 'lame'\n",
    "\n",
    "a[-1::-1]"
   ]
  },
  {
   "cell_type": "markdown",
   "id": "f62181b7",
   "metadata": {},
   "source": [
    "# 11. Given two strings, s1 and s2. Write a program to create a new string s3 by appending s2 in the middle of s1.\n",
    "Given: s1 = 'Tuar', s2 = 'sh'\n",
    "Expected Output: 'Tushar'"
   ]
  },
  {
   "cell_type": "code",
   "execution_count": 45,
   "id": "136d5e3d",
   "metadata": {},
   "outputs": [
    {
     "data": {
      "text/plain": [
       "'Tushar'"
      ]
     },
     "execution_count": 45,
     "metadata": {},
     "output_type": "execute_result"
    }
   ],
   "source": [
    "s1 = 'Tuar'\n",
    "s2 = 'sh' \n",
    "\n",
    "s3 = s1[0:2]+s2[0:]+s1[-2:]\n",
    "s3\n"
   ]
  },
  {
   "cell_type": "markdown",
   "id": "9681fdbb",
   "metadata": {},
   "source": [
    "# 12. Given two strings, s1 and s2, write a program to return a new string made of s1 and s2’s first, middle, and last characters.\n",
    "Given : s1 = 'America', s2 = 'Japan'\n",
    "Expected Output: 'AJrpan'"
   ]
  },
  {
   "cell_type": "code",
   "execution_count": 47,
   "id": "232c71a6",
   "metadata": {},
   "outputs": [
    {
     "data": {
      "text/plain": [
       "'AJrpan'"
      ]
     },
     "execution_count": 47,
     "metadata": {},
     "output_type": "execute_result"
    }
   ],
   "source": [
    "s1 = 'America'\n",
    "s2 = 'Japan' \n",
    "\n",
    "s3= s1[0]+s2[0]+s1[3]+s2[2:]\n",
    "s3"
   ]
  },
  {
   "cell_type": "markdown",
   "id": "7a2bbf02",
   "metadata": {},
   "source": [
    "# 13. Write a program to count all occurrences of “USA” in a given string ignoring the case.\n",
    "Given : str1 = \"Welcome to USA. usa awesome, isn't it?\"\n",
    "Output : \"The USA count is: 2\""
   ]
  },
  {
   "cell_type": "code",
   "execution_count": 51,
   "id": "02a98089",
   "metadata": {},
   "outputs": [
    {
     "name": "stdout",
     "output_type": "stream",
     "text": [
      "The USA count is:2\n"
     ]
    }
   ],
   "source": [
    "str1 = \"Welcome to USA. usa awesome, isn't it?\"\n",
    "str2 = \"USA\"\n",
    "print(f'The {str2} count is:2')"
   ]
  },
  {
   "cell_type": "markdown",
   "id": "1ee899a6",
   "metadata": {},
   "source": [
    "# 14. Write a program to find the last position of a substring “Emma” in a given string. (Hint : use rfind())\n",
    "Given : \"Emma is a data scientist who knows Python. Emma works at google.\"\n",
    "Output : 43"
   ]
  },
  {
   "cell_type": "code",
   "execution_count": 55,
   "id": "14f4d26d",
   "metadata": {
    "scrolled": true
   },
   "outputs": [
    {
     "data": {
      "text/plain": [
       "43"
      ]
     },
     "execution_count": 55,
     "metadata": {},
     "output_type": "execute_result"
    }
   ],
   "source": [
    "str1 = \"Emma is a data scientist who knows Python. Emma works at google.\"\n",
    "str1.rfind('Emma')"
   ]
  },
  {
   "cell_type": "markdown",
   "id": "c1b6c08b",
   "metadata": {},
   "source": [
    "# 15. Write a Python program to print the following numbers up to 2 decimal places.\n",
    "x =  3.1415926\n",
    "y =  12.9999"
   ]
  },
  {
   "cell_type": "code",
   "execution_count": 61,
   "id": "f579b997",
   "metadata": {},
   "outputs": [
    {
     "data": {
      "text/plain": [
       "(3.14, 13.0)"
      ]
     },
     "execution_count": 61,
     "metadata": {},
     "output_type": "execute_result"
    }
   ],
   "source": [
    "x = 22/7\n",
    "y = 12.9999\n",
    "\n",
    "round(x,2),round(y,2)"
   ]
  },
  {
   "cell_type": "markdown",
   "id": "46e27eac",
   "metadata": {},
   "source": [
    "# 16. Write a Python program to remove spaces from a given string and convert it into Uppercase.\n",
    "Given : 'n a r a y an a'\n",
    "Output : 'NARAYANA'"
   ]
  },
  {
   "cell_type": "code",
   "execution_count": 71,
   "id": "aeacb0f4",
   "metadata": {},
   "outputs": [
    {
     "data": {
      "text/plain": [
       "'NARAYANA'"
      ]
     },
     "execution_count": 71,
     "metadata": {},
     "output_type": "execute_result"
    }
   ],
   "source": [
    "a = 'n a r a y an a'\n",
    "\n",
    "b = a.upper().replace(' ','')\n",
    "b"
   ]
  },
  {
   "cell_type": "markdown",
   "id": "64566a39",
   "metadata": {},
   "source": [
    "# If Assignment"
   ]
  },
  {
   "cell_type": "markdown",
   "id": "442c0222",
   "metadata": {},
   "source": [
    "# 1. Write a Python Program to check if a number entered by user is odd or even.\n",
    "I/P : Enter a Number : 5\n",
    "O/P : 5 is odd number"
   ]
  },
  {
   "cell_type": "code",
   "execution_count": 26,
   "id": "91b43fd5",
   "metadata": {},
   "outputs": [
    {
     "name": "stdout",
     "output_type": "stream",
     "text": [
      "Enter the number 5446\n",
      "5446 is even number\n"
     ]
    }
   ],
   "source": [
    "h = int(input(\"Enter the number \"))\n",
    "\n",
    "if h%2 == 0:\n",
    "    print(f'{h} is even number')\n",
    "else:\n",
    "    print(f'{h} is odd number')"
   ]
  },
  {
   "cell_type": "markdown",
   "id": "8259204d",
   "metadata": {},
   "source": [
    "# 2. 1. Write a Python Program to check if a number entered by user is prime or not.\n",
    "I/P : Enter a Number : 7\n",
    "O/P : 7 is prime number"
   ]
  },
  {
   "cell_type": "code",
   "execution_count": 21,
   "id": "aea5c2e5",
   "metadata": {},
   "outputs": [
    {
     "name": "stdout",
     "output_type": "stream",
     "text": [
      "Enter the number 5\n",
      "5 is prime number\n"
     ]
    }
   ],
   "source": [
    "r = int(input(\"Enter the number \"))\n",
    "prime = (2, 3, 5, 7, 11, 13, 17, 19, 23, 29, 31, 37, 41, 43, 47, 53, 59, 61, 67, 71, 73, 79, 83, 89, 97)\n",
    "\n",
    "if r in prime:\n",
    "    print(f'{r} is prime number')\n",
    "else:\n",
    "    print(f'{h} is prime number')"
   ]
  },
  {
   "cell_type": "markdown",
   "id": "3fd32ebe",
   "metadata": {},
   "source": [
    "# 3. Create a Python Program to check whether the given string is palindrome or not.\n",
    "I/P : MOM\n",
    "O/P: MOM is palindrome"
   ]
  },
  {
   "cell_type": "code",
   "execution_count": 27,
   "id": "90ae476c",
   "metadata": {},
   "outputs": [
    {
     "name": "stdout",
     "output_type": "stream",
     "text": [
      "Enter the name MOM\n",
      "MOM is pallindrome\n"
     ]
    }
   ],
   "source": [
    "r = input(\"Enter the name \")\n",
    "\n",
    "h = r[-1::-1]\n",
    "\n",
    "if r == h:\n",
    "    print(f'{r} is pallindrome')\n",
    "else:\n",
    "    print(f'{r} is not pallindrome')\n"
   ]
  },
  {
   "cell_type": "markdown",
   "id": "b2736a0d",
   "metadata": {},
   "source": [
    "# 4. Create a Program that takes sentence as Input and counts the number of words in it.\n",
    "I/P: Tushar is teaching at NBS\n",
    "O/P: 5"
   ]
  },
  {
   "cell_type": "code",
   "execution_count": 33,
   "id": "54616c95",
   "metadata": {},
   "outputs": [
    {
     "data": {
      "text/plain": [
       "5"
      ]
     },
     "execution_count": 33,
     "metadata": {},
     "output_type": "execute_result"
    }
   ],
   "source": [
    "a = \"Tushar is teaching at NBS\"\n",
    "b = a.split()\n",
    "len(b)"
   ]
  },
  {
   "cell_type": "markdown",
   "id": "90595c8a",
   "metadata": {},
   "source": [
    "# 5. Given a list of fruits, concatenate them into a single string separated by spaces.\n",
    "I/P: [\"Orange\", \"Apple\", \"Grapes\"]\n",
    "O/P: Fruits names are : Orange Apple Grapes"
   ]
  },
  {
   "cell_type": "code",
   "execution_count": 1,
   "id": "d80c0f9b",
   "metadata": {},
   "outputs": [
    {
     "data": {
      "text/plain": [
       "'Orange Apple Grapes'"
      ]
     },
     "execution_count": 1,
     "metadata": {},
     "output_type": "execute_result"
    }
   ],
   "source": [
    "fruits = [\"Orange\", \"Apple\", \"Grapes\"] \n",
    "\n",
    "' '.join(fruits)\n",
    "\n"
   ]
  },
  {
   "cell_type": "markdown",
   "id": "16a14eab",
   "metadata": {},
   "source": [
    "# 6. Create a Program that takes a year as input and checks if it is a leap year or not.\n",
    "I/P : 2020\n",
    "O/P : 2020 is a leap year"
   ]
  },
  {
   "cell_type": "code",
   "execution_count": 2,
   "id": "c31a46b3",
   "metadata": {
    "scrolled": true
   },
   "outputs": [
    {
     "name": "stdout",
     "output_type": "stream",
     "text": [
      "Enter the year 2056\n",
      "2056 is a leap year\n"
     ]
    }
   ],
   "source": [
    "r = int(input(\"Enter the year \"))\n",
    "\n",
    "if r%4 == 0:\n",
    "    print(f'{r} is a leap year')\n",
    "else:\n",
    "    print(f'{r} is not a leap year')"
   ]
  },
  {
   "cell_type": "markdown",
   "id": "1ed35f88",
   "metadata": {},
   "source": [
    "# 7. Given the email id in the form of a string, check if it is gmail id or not.\n",
    "I/P : tkakaiya@gmail.com\n",
    "O/P : It is a gmail id"
   ]
  },
  {
   "cell_type": "code",
   "execution_count": 32,
   "id": "5f483ecd",
   "metadata": {},
   "outputs": [
    {
     "name": "stdout",
     "output_type": "stream",
     "text": [
      "Enter gmail id  tkakaiya@hotmail.com\n",
      "it is not a gmail id\n"
     ]
    }
   ],
   "source": [
    "email = input(\"Enter gmail id  \")\n",
    "\n",
    "if \"gmail\" in email:\n",
    "    print(\"it is a gmail id\")\n",
    "else:\n",
    "    print(\"it is not a gmail id\")"
   ]
  },
  {
   "cell_type": "markdown",
   "id": "ca91df3d",
   "metadata": {},
   "source": [
    "# 8. Given the email id in the forma of a string, find which domain id it is.\n",
    "I/P : tush_ar25@yahoo.com\n",
    "O/P : It is yahoo domain email ID."
   ]
  },
  {
   "cell_type": "code",
   "execution_count": 1,
   "id": "5d9fbb1d",
   "metadata": {},
   "outputs": [
    {
     "name": "stdout",
     "output_type": "stream",
     "text": [
      "Enter gmail id  harsh@gmail.com\n"
     ]
    },
    {
     "data": {
      "text/plain": [
       "'gmail'"
      ]
     },
     "execution_count": 1,
     "metadata": {},
     "output_type": "execute_result"
    }
   ],
   "source": [
    "email = input(\"Enter gmail id  \")\n",
    "\n",
    "a = email[-9:-4:1]\n",
    "a"
   ]
  },
  {
   "cell_type": "markdown",
   "id": "f48e55c4",
   "metadata": {},
   "source": [
    "# 9. Write a Program that takes a string from user and print that string only if it contains more than 5 characters.\n",
    "I/P : Tushar\n",
    "O/P : Hi Tushar\n",
    " \n",
    "I/P : RAAM\n",
    "O/P : Not a 5 character string!"
   ]
  },
  {
   "cell_type": "code",
   "execution_count": 8,
   "id": "f8016dd7",
   "metadata": {},
   "outputs": [
    {
     "name": "stdout",
     "output_type": "stream",
     "text": [
      "Enter your name hars\n",
      "There is Not a 5 character string!\n"
     ]
    }
   ],
   "source": [
    "h = input(\"Enter your name \")\n",
    "\n",
    "\n",
    "if len(h)>=5:\n",
    "    print(\"There is the 5 character sting!\")\n",
    "else:\n",
    "    print(\"There is Not a 5 character string!\")"
   ]
  },
  {
   "cell_type": "markdown",
   "id": "38bbba00",
   "metadata": {},
   "source": [
    "# 10. Write a Program to build a calculator based on the operators and the operands given\n",
    "Do it for +, -, *, /, //, %\n",
    "I/P :\n",
    "Enter the value of first operand: 8\n",
    "Enter the value of second operand: 9\n",
    "Enter the Operator : +\n",
    "Answer of addition of 8 and 9 is : 17\n",
    " \n",
    "Enter the value of first operand: 8\n",
    "Enter the value of second operand: 9\n",
    "Enter the Operator : *\n",
    "Answer of multiplication of 8 and 9 is : 72"
   ]
  },
  {
   "cell_type": "code",
   "execution_count": 10,
   "id": "979da509",
   "metadata": {},
   "outputs": [
    {
     "name": "stdout",
     "output_type": "stream",
     "text": [
      "Enter the first value 5\n",
      "Enter the second value 8\n",
      "Enter the Operator +\n",
      "13\n"
     ]
    }
   ],
   "source": [
    "h1 = int(input(\"Enter the first value \"))\n",
    "h2 = int(input(\"Enter the second value \"))\n",
    "h3 = input(\"Enter the Operator \")\n",
    "\n",
    "if h3 == \"+\":\n",
    "    print(h1+h2)\n",
    "elif h3 == \"*\":\n",
    "    print(h1*h2)\n",
    "elif h3 == \"-\":\n",
    "    print(h1-h2)\n",
    "elif h3 == \"/\":\n",
    "    print(h1/h2)\n",
    "elif h3 == \"//\":\n",
    "    print(h1//h2)\n",
    "elif h3 == \"%\":\n",
    "    print(h1%h3)\n",
    "else:\n",
    "    print(\"sorry you can do only +,-,*,/,//,%\")"
   ]
  },
  {
   "cell_type": "markdown",
   "id": "468faf52",
   "metadata": {},
   "source": [
    "# 11. Implement a Program that takes a sentence and a word as Input and checks if the word is present in the sentence (Hint : Use split and membership test operators)\n",
    "I/P :\n",
    "Enter the statement: Tushar is teaching at NBS\n",
    "Enter the word to search : working\n",
    "Result: Match not found!"
   ]
  },
  {
   "cell_type": "code",
   "execution_count": 12,
   "id": "70ef3172",
   "metadata": {},
   "outputs": [
    {
     "name": "stdout",
     "output_type": "stream",
     "text": [
      "Enter the sentence Tushar\n",
      "Match is found\n"
     ]
    }
   ],
   "source": [
    "a = input(\"Enter the sentence \")\n",
    "b = \" Tushar is teaching at NBS\"\n",
    "\n",
    "if a in b:\n",
    "    print(\"Match is found\")\n",
    "else:\n",
    "    print(\"Match is not found\")"
   ]
  },
  {
   "cell_type": "markdown",
   "id": "70a955e4",
   "metadata": {},
   "source": [
    "# 12. Write a Program which takes a number from the user and find whether that number is divisible by 7 and multiples of 5 or not.\n",
    "I/P : Enter the number : 1505\n",
    "O/P : Yes, its divisible by 7 and multiples of 5\n",
    " \n",
    "I/P : Enter the number : 1715\n",
    "O/P : Yes, its divisible by 7 and multiples of 5\n",
    " \n",
    "I/P : Enter the number : 1700\n",
    "O/P : No, its not divisible by 7 and not multiples of 5"
   ]
  },
  {
   "cell_type": "code",
   "execution_count": 10,
   "id": "56888264",
   "metadata": {},
   "outputs": [
    {
     "name": "stdout",
     "output_type": "stream",
     "text": [
      "Enter the number 1700\n",
      "NO, its not divisible by 7 and not multiples of 5\n"
     ]
    }
   ],
   "source": [
    "r = int(input(\"Enter the number \"))\n",
    "h = r%7\n",
    "a = r%5\n",
    "\n",
    "if h == a:\n",
    "    print(\"Yes, its divisible by 7 and multiples of 5\")\n",
    "else:\n",
    "    print(\"NO, its not divisible by 7 and not multiples of 5\")"
   ]
  },
  {
   "cell_type": "markdown",
   "id": "e21f6433",
   "metadata": {},
   "source": [
    "# 13. Write a Python program to check whether an alphabet is a vowel or consonant.\n",
    "I/P :\n",
    "Input a letter of the alphabet: k\n",
    "O/P:\n",
    "k is a consonant.\n",
    " \n",
    "I/P :\n",
    "Input a letter of the alphabet: i\n",
    "O/P:\n",
    "i is a vowel."
   ]
  },
  {
   "cell_type": "code",
   "execution_count": 14,
   "id": "553e7234",
   "metadata": {},
   "outputs": [
    {
     "name": "stdout",
     "output_type": "stream",
     "text": [
      "Enter an alphabet k\n",
      "k is consonant\n"
     ]
    }
   ],
   "source": [
    "h = input(\"Enter an alphabet \")\n",
    "\n",
    "vowel = \"a,e,i,o,u\"\n",
    "\n",
    "if h in vowel:\n",
    "    print(f\"{h} is vowel\")\n",
    "else:\n",
    "    print(f\"{h} is consonant\")"
   ]
  },
  {
   "cell_type": "markdown",
   "id": "12da0f61",
   "metadata": {},
   "source": [
    "# 14. Write a Python program to sum two integers. However, if the sum is between 15 and 20 it will print 20."
   ]
  },
  {
   "cell_type": "code",
   "execution_count": 8,
   "id": "f567b931",
   "metadata": {},
   "outputs": [
    {
     "name": "stdout",
     "output_type": "stream",
     "text": [
      "Enter first an number 8\n",
      "Enter second an number 8\n",
      "20\n"
     ]
    }
   ],
   "source": [
    "h = int(input(\"Enter first an number \"))\n",
    "b = int(input(\"Enter second an number \"))\n",
    "a = h+b\n",
    "\n",
    "if a >=15 and a <=20:\n",
    "    print(\"20\")\n",
    "else:\n",
    "    print(\"Sorry\")"
   ]
  },
  {
   "cell_type": "markdown",
   "id": "0c5250ad",
   "metadata": {},
   "source": [
    "# 15. Write a Python program to check if a triangle is equilateral, isosceles or scalene.\n",
    "Note :\n",
    "An equilateral triangle is a triangle in which all three sides are equal.\n",
    "A scalene triangle is a triangle that has three unequal sides.\n",
    "An isosceles triangle is a triangle with (at least) two equal sides.\n",
    "I/P:\n",
    "Input lengths of the triangle sides:\n",
    "x: 6\n",
    "y: 8\n",
    "z: 12\n",
    "O/P:\n",
    "Scalene triangle"
   ]
  },
  {
   "cell_type": "code",
   "execution_count": 17,
   "id": "d6f35242",
   "metadata": {},
   "outputs": [
    {
     "name": "stdout",
     "output_type": "stream",
     "text": [
      "Enter first side of tringle 5\n",
      "Enter second side of traingle 6\n",
      "Enter second side of traingle 3\n",
      "it's a scalene tringle\n"
     ]
    }
   ],
   "source": [
    "x = int(input(\"Enter first side of tringle \"))\n",
    "y = int(input(\"Enter second side of traingle \"))\n",
    "z = int(input(\"Enter second side of traingle \"))\n",
    "\n",
    "if x == y== z:\n",
    "    print(\"it's an equilateral tringle\")\n",
    "elif x==y or x==z or y==x or y==z or z==x or z==y:\n",
    "    print(\"it's a two equl(isosceles) tringle\")\n",
    "else:\n",
    "    print(\"it's a scalene tringle\")"
   ]
  },
  {
   "cell_type": "markdown",
   "id": "5b71483c",
   "metadata": {},
   "source": [
    "# 16. Write a Python program to display the astrological sign for a given date of birth.\n",
    "I/P:\n",
    "Input birthday: 15\n",
    "Input month of birth (e.g. march, july etc): may\n",
    "O/P:\n",
    "Your Astrological sign is : Taurus"
   ]
  },
  {
   "cell_type": "code",
   "execution_count": 3,
   "id": "2496582f",
   "metadata": {},
   "outputs": [
    {
     "name": "stdout",
     "output_type": "stream",
     "text": [
      "Enter you birthday 12\n",
      "Enter you birth month August\n",
      "Your Astrological sign is: Leo\n"
     ]
    }
   ],
   "source": [
    "day = int(input(\"Enter you birthday \"))\n",
    "month = input(\"Enter you birth month \")\n",
    "\n",
    "if (21<= day <= 31 and month == \"March\") or (1 <= day <= 19 and month == \"April\"):\n",
    "    print(\"Your Astrological sign is: Aries\")\n",
    "elif (20<= day <= 30 and month == \"April\") or (1 <= day <= 20 and month == \"May\"):\n",
    "    print(\"Your Astrological sign is: Taurus\")\n",
    "elif (21<= day <= 31 and month == \"May\") or (1 <= day <= 21 and month == \"June\"):\n",
    "    print(\"Your Astrological sign is: Gemini\")\n",
    "elif (22<= day <= 30 and month == \"June\") or (1 <= day <= 22 and month == \"July\"):\n",
    "    print(\"Your Astrological sign is: Cancer\")\n",
    "elif (23<= day <= 31 and month == \"July\") or (1 <= day <= 22 and month == \"August\"):\n",
    "    print(\"Your Astrological sign is: Leo\")\n",
    "elif (23<= day <= 31 and month == \"August\") or (1 <= day <= 23 and month == \"September\"):\n",
    "    print(\"Your Astrological sign is: Virgo\")\n",
    "elif (23<= day <= 30 and month == \"September\") or (1 <= day <= 23 and month == \"October\"):\n",
    "    print(\"Your Astrological sign is: Libra\")\n",
    "elif (24<= day <= 31 and month == \"October\") or (1 <= day <= 21 and month == \"November\"):\n",
    "    print(\"Your Astrological sign is: Scorpio\")\n",
    "elif (22<= day <= 30 and month == \"November\") or (1 <= day <= 21 and month == \"December\"):\n",
    "    print(\"Your Astrological sign is: Sagittarius\")\n",
    "elif (22<= day <= 31 and month == \"December\") or (1 <= day <= 19 and month == \"January\"):\n",
    "    print(\"Your Astrological sign is: Capricorn\")\n",
    "elif (20 <= day <= 31 and month == \"January\") or (1 <= day <= 18 and month == \"February\"):\n",
    "    print(\"Your Astrological sign is: Aquarius\")\n",
    "elif (19<= day <= 29 and month == \"February\") or (1 <= day <= 20 and month == \"March\"):\n",
    "    print(\"Your Astrological sign is: Pisces\")"
   ]
  },
  {
   "cell_type": "markdown",
   "id": "41c38a73",
   "metadata": {},
   "source": [
    "# 17. Write a Python program to find the median of three values.\n",
    "I/P:\n",
    "Input first number: 15\n",
    "Input second number: 26\n",
    "Input third number: 29\n",
    " \n",
    "O/P:\n",
    "The median is 26.0"
   ]
  },
  {
   "cell_type": "code",
   "execution_count": 11,
   "id": "f88b9191",
   "metadata": {},
   "outputs": [
    {
     "name": "stdout",
     "output_type": "stream",
     "text": [
      "Enter the first value 15\n",
      "Enter the second value 26\n",
      "Enter the first value 29\n",
      "The median 26\n"
     ]
    }
   ],
   "source": [
    "a = int(input(\"Enter the first value \"))\n",
    "b = int(input(\"Enter the second value \"))\n",
    "c = int(input(\"Enter the first value \"))\n",
    "\n",
    "if b < a < c:\n",
    "    print(f\"The median {a}\")\n",
    "elif a < b < c:\n",
    "    print(f\"The median {b}\")\n",
    "else:\n",
    "    print(f\"The median {c}\")\n",
    "    "
   ]
  },
  {
   "cell_type": "markdown",
   "id": "3a6cfe36",
   "metadata": {},
   "source": [
    "# 18. A company decided to give bonus of 5% to employee if his/her year of service is more than 5 years.\n",
    "Ask user for their salary and year of service and print the net bonus amount.\n",
    "\n",
    "I/P:\n",
    "Enter Salary : 10000\n",
    "Enter Years of Service : 6\n",
    "O/P:\n",
    "Bonus is : 500\n",
    " \n",
    "I/P:\n",
    "Enter Salary : 10000\n",
    "Enter Years of Service : 3\n",
    "O/P:\n",
    "Sorry, you are not eligible for bonus!"
   ]
  },
  {
   "cell_type": "code",
   "execution_count": 18,
   "id": "e1e50f8c",
   "metadata": {},
   "outputs": [
    {
     "name": "stdout",
     "output_type": "stream",
     "text": [
      "Enter your salary amount 10000\n",
      "Enter the years of service 6\n",
      "Bonus 500.0\n"
     ]
    }
   ],
   "source": [
    "salary =  int(input(\"Enter your salary amount \"))\n",
    "years = int(input(\"Enter the years of service \"))\n",
    "\n",
    "if years > 5:\n",
    "    print(\"Bonus\",salary*5/100)\n",
    "else:\n",
    "    print(\"you are not eligible for bounus\")"
   ]
  },
  {
   "cell_type": "markdown",
   "id": "ca4a0a6c",
   "metadata": {},
   "source": [
    "# 19. NBS has following rules for grading system:\n",
    "\n",
    "a. Below 25 - F,\n",
    "b. 25 to 45 - E,\n",
    "c. 45 to 50 - D,\n",
    "d. 50 to 60 - C,\n",
    "e. 60 to 80 - B,\n",
    "f. Above 80 - A,\n",
    "Ask user to enter marks and print the corresponding grade."
   ]
  },
  {
   "cell_type": "code",
   "execution_count": 5,
   "id": "37ddbd29",
   "metadata": {},
   "outputs": [
    {
     "name": "stdout",
     "output_type": "stream",
     "text": [
      "Enter a number 85\n",
      "A\n"
     ]
    }
   ],
   "source": [
    "n = int(input(\"Enter a number \"))\n",
    "\n",
    "if 0<= n <= 25:\n",
    "    print(\"f\")\n",
    "elif 25<= n <= 45:\n",
    "    print(\"E\")\n",
    "elif 45<= n <= 50:\n",
    "    print(\"D\")\n",
    "elif 50 <= n <= 60:\n",
    "    print(\"C\")\n",
    "elif 60<= n <= 80:\n",
    "    print(\"B\")\n",
    "elif 80<= n:\n",
    "    print(\"A\")"
   ]
  },
  {
   "cell_type": "markdown",
   "id": "887c9089",
   "metadata": {},
   "source": [
    "# 21. A student will not be allowed to sit in exam if his/her attendence is less than 75%.\n",
    "Take following input from user:\n",
    "Number of classes held\n",
    "Number of classes attended.\n",
    "And print\n",
    "percentage of class attended\n",
    "And answer Is student is allowed to sit in exam or not."
   ]
  },
  {
   "cell_type": "code",
   "execution_count": 9,
   "id": "7356ccc0",
   "metadata": {},
   "outputs": [
    {
     "name": "stdout",
     "output_type": "stream",
     "text": [
      "Enter the number of clasees held 100\n",
      "Enter the number of clasees attened 76\n",
      "76.0%\n",
      "You can seat in the exam\n"
     ]
    }
   ],
   "source": [
    "ch = int(input(\"Enter the number of clasees held \"))\n",
    "ca = int(input(\"Enter the number of clasees attened \"))\n",
    "\n",
    "a = ca/ch*100\n",
    "\n",
    "print(f'{a}%')\n",
    "\n",
    "if a >= 75:\n",
    "    print(\"You can seat in the exam\")\n",
    "else:\n",
    "    print(\"You can not seat in the exam\")"
   ]
  },
  {
   "cell_type": "markdown",
   "id": "99e9d588",
   "metadata": {},
   "source": [
    "# 22. Take values of length and breadth of a rectangle from user and check if it is square or not.\n",
    " "
   ]
  },
  {
   "cell_type": "code",
   "execution_count": 20,
   "id": "bbcdeef5",
   "metadata": {},
   "outputs": [
    {
     "name": "stdout",
     "output_type": "stream",
     "text": [
      "Enter the lenght 45\n",
      "Enter the breadth 90\n",
      "Area of rectangle is 4050\n",
      "It is not square\n"
     ]
    }
   ],
   "source": [
    "length = int(input(\"Enter the lenght \"))\n",
    "breadth = int(input(\"Enter the breadth \"))\n",
    "\n",
    "h = length * breadth\n",
    "\n",
    "print(f\"Area of rectangle is {h}\")\n",
    "\n",
    "if length == breadth:\n",
    "    print(\"It is square\")\n",
    "else:\n",
    "    print(\"It is not square\")"
   ]
  },
  {
   "cell_type": "markdown",
   "id": "28e40026",
   "metadata": {},
   "source": [
    "# 23. Take two int values from user and print greatest among them.\n",
    " "
   ]
  },
  {
   "cell_type": "code",
   "execution_count": 23,
   "id": "9dbb8739",
   "metadata": {},
   "outputs": [
    {
     "name": "stdout",
     "output_type": "stream",
     "text": [
      "Enter a number 45\n",
      "Enter a number 66\n",
      "66\n"
     ]
    }
   ],
   "source": [
    "n = int(input(\"Enter a number \"))\n",
    "h = int(input(\"Enter a number \"))\n",
    "\n",
    "if n > h:\n",
    "    print(n)\n",
    "else:\n",
    "    print(h)"
   ]
  },
  {
   "cell_type": "markdown",
   "id": "1582c40d",
   "metadata": {},
   "source": [
    "# 24. Take input of age of 3 people by user and determine oldest and youngest among them."
   ]
  },
  {
   "cell_type": "code",
   "execution_count": 32,
   "id": "55424907",
   "metadata": {},
   "outputs": [
    {
     "name": "stdout",
     "output_type": "stream",
     "text": [
      "Enter the fist person's age 15\n",
      "Enter the second person's age 145\n",
      "Enter the third person's age 45\n"
     ]
    },
    {
     "data": {
      "text/plain": [
       "145"
      ]
     },
     "execution_count": 32,
     "metadata": {},
     "output_type": "execute_result"
    }
   ],
   "source": [
    "n = int(input(\"Enter the fist person's age \"))\n",
    "h = int(input(\"Enter the second person's age \"))\n",
    "b = int(input(\"Enter the third person's age \"))\n",
    "\n",
    "g = [n,h,b]\n",
    "\n",
    "g.sort()\n",
    "g[2]"
   ]
  },
  {
   "cell_type": "markdown",
   "id": "ceae327d",
   "metadata": {},
   "source": [
    "# 25. Write a Program to print \"Hello\" if a number entered by user is divisible by 7 otherwise print \"Bye\"\n"
   ]
  },
  {
   "cell_type": "code",
   "execution_count": 36,
   "id": "f53d31b7",
   "metadata": {},
   "outputs": [
    {
     "name": "stdout",
     "output_type": "stream",
     "text": [
      "Enter a number 85\n",
      "Bye\n"
     ]
    }
   ],
   "source": [
    "n = int(input(\"Enter a number \"))\n",
    "\n",
    "if n%7 == 0:\n",
    "    print(\"Hello\")\n",
    "else:\n",
    "    print(\"Bye\")"
   ]
  },
  {
   "cell_type": "markdown",
   "id": "05d2f7c7",
   "metadata": {},
   "source": [
    "# For Loop Assignment"
   ]
  },
  {
   "cell_type": "markdown",
   "id": "1cdf148a",
   "metadata": {},
   "source": [
    "# 1. Print first 10 numbers using a for loop"
   ]
  },
  {
   "cell_type": "code",
   "execution_count": 10,
   "id": "9b819147",
   "metadata": {},
   "outputs": [
    {
     "name": "stdout",
     "output_type": "stream",
     "text": [
      "0\n",
      "1\n",
      "2\n",
      "3\n",
      "4\n",
      "5\n",
      "6\n",
      "7\n",
      "8\n",
      "9\n",
      "10\n"
     ]
    }
   ],
   "source": [
    "h = list(range(0,11,1))\n",
    "\n",
    "for i in h:\n",
    "    print(i)"
   ]
  },
  {
   "cell_type": "markdown",
   "id": "4cfb563d",
   "metadata": {},
   "source": [
    "# 2. Calculate the square of each number of list of 1-100 numbers"
   ]
  },
  {
   "cell_type": "code",
   "execution_count": 3,
   "id": "e8ca43ac",
   "metadata": {},
   "outputs": [
    {
     "name": "stdout",
     "output_type": "stream",
     "text": [
      "Enter the number 100\n",
      "[0, 1, 4, 9, 16, 25, 36, 49, 64, 81, 100, 121, 144, 169, 196, 225, 256, 289, 324, 361, 400, 441, 484, 529, 576, 625, 676, 729, 784, 841, 900, 961, 1024, 1089, 1156, 1225, 1296, 1369, 1444, 1521, 1600, 1681, 1764, 1849, 1936, 2025, 2116, 2209, 2304, 2401, 2500, 2601, 2704, 2809, 2916, 3025, 3136, 3249, 3364, 3481, 3600, 3721, 3844, 3969, 4096, 4225, 4356, 4489, 4624, 4761, 4900, 5041, 5184, 5329, 5476, 5625, 5776, 5929, 6084, 6241, 6400, 6561, 6724, 6889, 7056, 7225, 7396, 7569, 7744, 7921, 8100, 8281, 8464, 8649, 8836, 9025, 9216, 9409, 9604, 9801, 10000]\n"
     ]
    }
   ],
   "source": [
    "r = int(input(\"Enter the number \"))\n",
    "h = list(range(0,r+1,1))\n",
    "a = []\n",
    "\n",
    "for i in h:\n",
    "    a.append(i**2)\n",
    "    \n",
    "print(a)"
   ]
  },
  {
   "cell_type": "markdown",
   "id": "3be88713",
   "metadata": {},
   "source": [
    "# 3. Calculate the sum of all even numbers from 1-100"
   ]
  },
  {
   "cell_type": "code",
   "execution_count": 36,
   "id": "bc754852",
   "metadata": {},
   "outputs": [
    {
     "name": "stdout",
     "output_type": "stream",
     "text": [
      "2550\n"
     ]
    }
   ],
   "source": [
    "h = list(range(0,101,2))\n",
    "a = 0\n",
    "for i in h:\n",
    "    a = i+ a\n",
    "\n",
    "print(a)"
   ]
  },
  {
   "cell_type": "markdown",
   "id": "b3f77927",
   "metadata": {},
   "source": [
    "# 4. Write a Program to print the table of the number entered by user."
   ]
  },
  {
   "cell_type": "code",
   "execution_count": 18,
   "id": "ed880bd9",
   "metadata": {},
   "outputs": [
    {
     "name": "stdout",
     "output_type": "stream",
     "text": [
      "Enter the number will make table of that table 5\n",
      "[5, 10, 15, 20, 25, 30, 35, 40, 45, 50]\n"
     ]
    }
   ],
   "source": [
    "h = int(input(\"Enter the number will make table of that table \"))\n",
    "\n",
    "range1 = list(range(1,11,1))\n",
    "f = []\n",
    "\n",
    "for i in range1:\n",
    "    f.append(h*i)\n",
    "    \n",
    "print(f)"
   ]
  },
  {
   "cell_type": "code",
   "execution_count": 16,
   "id": "ea54c123",
   "metadata": {},
   "outputs": [
    {
     "name": "stdout",
     "output_type": "stream",
     "text": [
      "Enter the number will make table of that table 5\n",
      "5 * 1 = 5\n",
      "5 * 2 = 10\n",
      "5 * 3 = 15\n",
      "5 * 4 = 20\n",
      "5 * 5 = 25\n",
      "5 * 6 = 30\n",
      "5 * 7 = 35\n",
      "5 * 8 = 40\n",
      "5 * 9 = 45\n",
      "5 * 10 = 50\n"
     ]
    }
   ],
   "source": [
    "tab = int(input(\"Enter the number will make table of that table \"))\n",
    "ans = 0\n",
    "\n",
    "for i in range(1,11):\n",
    "    ans = tab *i\n",
    "    print(f\"{tab} * {i} = {ans}\")"
   ]
  },
  {
   "cell_type": "markdown",
   "id": "35abd36b",
   "metadata": {},
   "source": [
    "# 5. Write a Program to find the factorial of the number enetered by user.\n",
    "(Hint: 5 factorial is 5*4*3*2*1)\n",
    "I/P : Enter the number : 5\n",
    "O/P: Factorial of 5 is 120"
   ]
  },
  {
   "cell_type": "code",
   "execution_count": 68,
   "id": "aad8f94e",
   "metadata": {},
   "outputs": [
    {
     "name": "stdout",
     "output_type": "stream",
     "text": [
      "Enter the number 5\n",
      "120\n"
     ]
    }
   ],
   "source": [
    "h = int(input(\"Enter the number \"))\n",
    "a = list(range(h,0,-1))\n",
    "s = 1 \n",
    "\n",
    "for i in a:\n",
    "    s = (s*i)\n",
    "    \n",
    "print(s)"
   ]
  },
  {
   "cell_type": "markdown",
   "id": "00cc2f02",
   "metadata": {},
   "source": [
    "# 6. Write a Program to check if the number is prime or not (Hint: Prime number is divisble by 1 and the number itself!)"
   ]
  },
  {
   "cell_type": "code",
   "execution_count": 30,
   "id": "559cd223",
   "metadata": {},
   "outputs": [
    {
     "name": "stdout",
     "output_type": "stream",
     "text": [
      "Enter the number 5\n",
      "5 is not prime number\n"
     ]
    }
   ],
   "source": [
    "num = int(input(\"Enter the number \"))\n",
    "range1 = range(1,num)\n",
    "r = 0\n",
    "\n",
    "for i in range1:\n",
    "    if num % i == 0:\n",
    "        r = i\n",
    "        \n",
    "\n",
    "if r == 0:\n",
    "    print(f\"{num} is prime number\")\n",
    "else:\n",
    "    print(f\"{num} is not prime number\")\n",
    "        "
   ]
  },
  {
   "cell_type": "markdown",
   "id": "edd94512",
   "metadata": {},
   "source": [
    "# 7. Write a Program to print sum of all odd number between 12 and 37 (12 and 37 included)"
   ]
  },
  {
   "cell_type": "code",
   "execution_count": 73,
   "id": "8f697a49",
   "metadata": {},
   "outputs": [
    {
     "data": {
      "text/plain": [
       "337"
      ]
     },
     "execution_count": 73,
     "metadata": {},
     "output_type": "execute_result"
    }
   ],
   "source": [
    "a =list(range(13,38,2))\n",
    "\n",
    "b = [12]\n",
    "\n",
    "for i in a:\n",
    "    b.append(i)\n",
    "\n",
    "sum(b)"
   ]
  },
  {
   "cell_type": "markdown",
   "id": "45b75143",
   "metadata": {},
   "source": [
    "# 8. Write a Program to find whether the number entered by user is perfect number or not (Hint: Perfect number is the number where the divisors sum is the number itself!)\n",
    "For example, 6 is perfect number because the divisors of 6 are : 1,2,3 and 1+2+3 is 6"
   ]
  },
  {
   "cell_type": "code",
   "execution_count": 66,
   "id": "6ef9f838",
   "metadata": {},
   "outputs": [
    {
     "name": "stdout",
     "output_type": "stream",
     "text": [
      "Enter the number 6\n",
      "Yes, 6 is percet number\n"
     ]
    }
   ],
   "source": [
    "h = int(input(\"Enter the number \"))\n",
    "a = list(range(1,h,1))\n",
    "r = []\n",
    "\n",
    "for i in a:\n",
    "    if h % i == 0:\n",
    "        r.append(i)\n",
    "\n",
    "g = 0\n",
    "for j in r:\n",
    "    g = g+j\n",
    "\n",
    "if g ==h:\n",
    "    print(f\"Yes, {h} is percet number\")\n",
    "else:\n",
    "    print(f\"No, {h} is percet number\")"
   ]
  },
  {
   "cell_type": "markdown",
   "id": "e5f9ba2d",
   "metadata": {},
   "source": [
    "# 9. Write a Program to find the sum of following (accepted values a,r and n from user)\n",
    "a + ar + ar2 + ar3 + .... + arn"
   ]
  },
  {
   "cell_type": "code",
   "execution_count": 2,
   "id": "2bdbded0",
   "metadata": {},
   "outputs": [
    {
     "name": "stdout",
     "output_type": "stream",
     "text": [
      "Enter the number a 5\n",
      "Enter the number r 2\n",
      "Enter the number n 4\n",
      "155\n"
     ]
    }
   ],
   "source": [
    "a = int(input(\"Enter the number a \"))\n",
    "r = int(input(\"Enter the number r \"))\n",
    "n = int(input(\"Enter the number n \"))\n",
    "\n",
    "sum2 = 0\n",
    "\n",
    "for i in range(0,n+1,1):\n",
    "    sum2 = sum2 +a*r**i\n",
    "    \n",
    "print(sum2)"
   ]
  },
  {
   "cell_type": "markdown",
   "id": "7f991c66",
   "metadata": {},
   "source": [
    "# 10. Write a Program in python to append suffix in each word of the string.\n",
    "I/P: \"Play Work Sleep Eat\"\n",
    "O/P: \"Playing Working Sleeping Eating\""
   ]
  },
  {
   "cell_type": "code",
   "execution_count": 32,
   "id": "89f861f6",
   "metadata": {},
   "outputs": [
    {
     "data": {
      "text/plain": [
       "['Playing', 'Working', 'Sleeping', 'Eating']"
      ]
     },
     "execution_count": 32,
     "metadata": {},
     "output_type": "execute_result"
    }
   ],
   "source": [
    "work = (\"Play Work Sleep Eat\")\n",
    "work1 = work.split(\" \")\n",
    "ans = []\n",
    "\n",
    "for i in work1:\n",
    "    ans.append(i+\"ing\")\n",
    "\n",
    "ans\n",
    "    \n",
    "    "
   ]
  },
  {
   "cell_type": "markdown",
   "id": "625af414",
   "metadata": {},
   "source": [
    "# 11. Display Fibonacci series up to 10 terms\n",
    "Example: 1,2,3,5,8,13,21,34"
   ]
  },
  {
   "cell_type": "code",
   "execution_count": 1,
   "id": "f660a42a",
   "metadata": {},
   "outputs": [
    {
     "name": "stdout",
     "output_type": "stream",
     "text": [
      "Enter the number 10\n",
      "[1, 2, 3, 5, 8, 13, 21, 34, 55, 89]\n"
     ]
    }
   ],
   "source": [
    "h = int(input(\"Enter the number \"))\n",
    "rang1 = list(range(0,h-2,1))\n",
    "\n",
    "final1 =[1,2]\n",
    "\n",
    "for i in rang1:\n",
    "    final1.append(final1[-1]+final1[-2])\n",
    "\n",
    "print(final1)\n",
    "    \n"
   ]
  },
  {
   "cell_type": "markdown",
   "id": "0fe97f6f",
   "metadata": {},
   "source": [
    "# 12. Calculate the cube of all numbers from 1 to a given number"
   ]
  },
  {
   "cell_type": "code",
   "execution_count": 4,
   "id": "1feabb27",
   "metadata": {},
   "outputs": [
    {
     "name": "stdout",
     "output_type": "stream",
     "text": [
      "Enter the range 5\n",
      "[1, 8, 27, 64, 125]\n"
     ]
    }
   ],
   "source": [
    "h = int(input(\"Enter the range \"))\n",
    "a = list(range(1,h+1,1))\n",
    "j = []\n",
    "\n",
    "for i in a:\n",
    "    j.append(i**3)\n",
    "    \n",
    "print(j)\n",
    "    "
   ]
  },
  {
   "cell_type": "markdown",
   "id": "98d7bdba",
   "metadata": {},
   "source": [
    "# 13. Display numbers from -10 to -1 using for loop"
   ]
  },
  {
   "cell_type": "code",
   "execution_count": 34,
   "id": "921b9128",
   "metadata": {},
   "outputs": [
    {
     "name": "stdout",
     "output_type": "stream",
     "text": [
      "-10\n",
      "-9\n",
      "-8\n",
      "-7\n",
      "-6\n",
      "-5\n",
      "-4\n",
      "-3\n",
      "-2\n",
      "-1\n"
     ]
    }
   ],
   "source": [
    "for i in range(-10,0,1):\n",
    "         print(i) "
   ]
  },
  {
   "cell_type": "markdown",
   "id": "86c863f7",
   "metadata": {},
   "source": [
    "# 14. Count the total number of digits in a number"
   ]
  },
  {
   "cell_type": "code",
   "execution_count": 4,
   "id": "3c983f96",
   "metadata": {},
   "outputs": [
    {
     "data": {
      "text/plain": [
       "10"
      ]
     },
     "execution_count": 4,
     "metadata": {},
     "output_type": "execute_result"
    }
   ],
   "source": [
    "num = 9157533170\n",
    "count=0\n",
    "for i in str(num):\n",
    "    count=count+1\n",
    "count"
   ]
  },
  {
   "cell_type": "markdown",
   "id": "2df33f04",
   "metadata": {},
   "source": [
    "# 15. Print \"Done\" after successful execution of for loop\n",
    "Sample O/P:\n",
    "0\n",
    "1\n",
    "2\n",
    "3\n",
    "4\n",
    "Done!"
   ]
  },
  {
   "cell_type": "code",
   "execution_count": 21,
   "id": "3a00b133",
   "metadata": {},
   "outputs": [
    {
     "name": "stdout",
     "output_type": "stream",
     "text": [
      "Enter the range 5\n",
      "0\n",
      "1\n",
      "2\n",
      "3\n",
      "4\n",
      "5\n",
      "Done!\n"
     ]
    }
   ],
   "source": [
    "h = int(input(\"Enter the range \"))\n",
    "a = []\n",
    "for i in range(0,h+1,1):\n",
    "    a.append(i)\n",
    "    print(i)\n",
    "\n",
    "print(\"Done!\")"
   ]
  },
  {
   "cell_type": "markdown",
   "id": "c7fd4cf8",
   "metadata": {},
   "source": [
    "# 17. Write a Program to check if a given string is a pangram. (contains all letters of the alphabet)"
   ]
  },
  {
   "cell_type": "code",
   "execution_count": 9,
   "id": "c62e631a",
   "metadata": {},
   "outputs": [
    {
     "name": "stdout",
     "output_type": "stream",
     "text": [
      "Enter any alphabet qwertyuiopasdfghjklzxcvbnm\n",
      "String is Pangram\n"
     ]
    }
   ],
   "source": [
    "abc = input(\"Enter any alphabet \")\n",
    "all = \"qwertyuiopasdfghjklzxcvbnm\"\n",
    "ans = []\n",
    "\n",
    "for i in all:\n",
    "    if i in abc:\n",
    "        ans.append(\"y\")\n",
    "    else:\n",
    "        ans.append(\"n\")\n",
    "        \n",
    "if ans == \"y\":\n",
    "    print(\"String isn't Pangram\")\n",
    "else:\n",
    "    print(\"String is Pangram\")"
   ]
  },
  {
   "cell_type": "markdown",
   "id": "4abd5a68",
   "metadata": {},
   "source": [
    "# 18. Given a list of names, print all names starting with the letter 'A'"
   ]
  },
  {
   "cell_type": "code",
   "execution_count": 21,
   "id": "dc0c71a7",
   "metadata": {},
   "outputs": [
    {
     "data": {
      "text/plain": [
       "['Amisha', 'Ayush', 'Arpit']"
      ]
     },
     "execution_count": 21,
     "metadata": {},
     "output_type": "execute_result"
    }
   ],
   "source": [
    "nlist=[\"Darshan\",\"Harsh\",\"Chirag\",\"Jayesh\",\"Amisha\",\"Prem\",\"Ayush\",\"Preet\",\"Arpit\"]\n",
    "name = []\n",
    "\n",
    "\n",
    "for i in nlist:\n",
    "    if i[0:1:1] == \"A\":\n",
    "        name.append(i)\n",
    "name"
   ]
  },
  {
   "cell_type": "markdown",
   "id": "368fa094",
   "metadata": {},
   "source": [
    "# 19. Create a loop that prints all prime numbers between 1 and 50."
   ]
  },
  {
   "cell_type": "code",
   "execution_count": 32,
   "id": "0bb54216",
   "metadata": {},
   "outputs": [
    {
     "data": {
      "text/plain": [
       "[1,\n",
       " 2,\n",
       " 3,\n",
       " 4,\n",
       " 5,\n",
       " 6,\n",
       " 7,\n",
       " 8,\n",
       " 9,\n",
       " 10,\n",
       " 11,\n",
       " 12,\n",
       " 13,\n",
       " 14,\n",
       " 15,\n",
       " 16,\n",
       " 17,\n",
       " 18,\n",
       " 19,\n",
       " 20,\n",
       " 21,\n",
       " 22,\n",
       " 23,\n",
       " 24,\n",
       " 25,\n",
       " 26,\n",
       " 27,\n",
       " 28,\n",
       " 29,\n",
       " 30,\n",
       " 31,\n",
       " 32,\n",
       " 33,\n",
       " 34,\n",
       " 35,\n",
       " 36,\n",
       " 37,\n",
       " 38,\n",
       " 39,\n",
       " 40,\n",
       " 41,\n",
       " 42,\n",
       " 43,\n",
       " 44,\n",
       " 45,\n",
       " 46,\n",
       " 47,\n",
       " 48,\n",
       " 49]"
      ]
     },
     "execution_count": 32,
     "metadata": {},
     "output_type": "execute_result"
    }
   ],
   "source": [
    "range1 = list(range(1,51,1))\n",
    "ind_range = []\n",
    "\n",
    "for i in range1:\n",
    "    ind_range = list(range(1,i))\n",
    "\n",
    "ind_range\n",
    "        "
   ]
  },
  {
   "cell_type": "markdown",
   "id": "a5e93aa8",
   "metadata": {},
   "source": [
    "# 20. Given a list of words, count the number of words with more than 5 characters."
   ]
  },
  {
   "cell_type": "code",
   "execution_count": 46,
   "id": "c5aef324",
   "metadata": {},
   "outputs": [
    {
     "data": {
      "text/plain": [
       "['Harsh', 'Ayush', 'Preet', 'Arpit']"
      ]
     },
     "execution_count": 46,
     "metadata": {},
     "output_type": "execute_result"
    }
   ],
   "source": [
    "nlist=[\"Darshan\",\"Harsh\",\"Chirag\",\"Jayesh\",\"Amisha\",\"Prem\",\"Ayush\",\"Preet\",\"Arpit\"]\n",
    "ans = []\n",
    "\n",
    "for i in nlist:\n",
    "    if len(i) == 5:\n",
    "        ans.append(i)\n",
    "        \n",
    "ans"
   ]
  },
  {
   "cell_type": "markdown",
   "id": "3ca02080",
   "metadata": {},
   "source": [
    "# 21. Calculate the sum of all digits given in a string format\n",
    "I/P : s= \"12345\"\n",
    "O/P : 15"
   ]
  },
  {
   "cell_type": "code",
   "execution_count": 41,
   "id": "ed80aa6f",
   "metadata": {},
   "outputs": [
    {
     "data": {
      "text/plain": [
       "15"
      ]
     },
     "execution_count": 41,
     "metadata": {},
     "output_type": "execute_result"
    }
   ],
   "source": [
    "h = \"12345\"\n",
    "a = 0\n",
    "\n",
    "for i in h:\n",
    "    a = int(i)+a \n",
    "    \n",
    "a\n",
    "    "
   ]
  },
  {
   "cell_type": "markdown",
   "id": "72ad8065",
   "metadata": {},
   "source": [
    "# Dictionary Assignment "
   ]
  },
  {
   "cell_type": "markdown",
   "id": "b294f0d6",
   "metadata": {},
   "source": [
    "# Q-1. Write a Python script to sort (ascending and descending) a dictionary by value."
   ]
  },
  {
   "cell_type": "code",
   "execution_count": 19,
   "id": "417825a8",
   "metadata": {},
   "outputs": [
    {
     "data": {
      "text/plain": [
       "dict_values([10, 20, 9, 23, 8])"
      ]
     },
     "execution_count": 19,
     "metadata": {},
     "output_type": "execute_result"
    }
   ],
   "source": [
    "d={0: 10, 1: 20,2:9,3:23,4:8}\n",
    "d.values()"
   ]
  },
  {
   "cell_type": "markdown",
   "id": "b5f1db55",
   "metadata": {},
   "source": [
    "# Q-2. Write a Python script to add a key to a dictionary.\n",
    "Sample Dictionary : {0: 10, 1: 20}\n",
    "Expected Result : {0: 10, 1: 20, 2: 30}\n"
   ]
  },
  {
   "cell_type": "code",
   "execution_count": 9,
   "id": "6d245d1f",
   "metadata": {},
   "outputs": [
    {
     "data": {
      "text/plain": [
       "{0: 10, 1: 20, 2: 30}"
      ]
     },
     "execution_count": 9,
     "metadata": {},
     "output_type": "execute_result"
    }
   ],
   "source": [
    "list1 = {0: 10, 1: 20}\n",
    "\n",
    "list1[2] = 30\n",
    "\n",
    "list1"
   ]
  },
  {
   "cell_type": "markdown",
   "id": "c52e7743",
   "metadata": {},
   "source": [
    "# Q-3. Write a Python script to concatenate the following dictionaries to create a new one.\n",
    " \n",
    "Sample Dictionary :\n",
    "dic1={1:10, 2:20}\n",
    "dic2={3:30, 4:40}\n",
    "dic3={5:50,6:60}\n",
    "Expected Result : {1: 10, 2: 20, 3: 30, 4: 40, 5: 50, 6: 60}"
   ]
  },
  {
   "cell_type": "code",
   "execution_count": 109,
   "id": "89e76ab6",
   "metadata": {},
   "outputs": [
    {
     "data": {
      "text/plain": [
       "{1: 10, 2: 20, 3: 30, 4: 40, 5: 50, 6: 60}"
      ]
     },
     "execution_count": 109,
     "metadata": {},
     "output_type": "execute_result"
    }
   ],
   "source": [
    "dic1={1:10, 2:20} \n",
    "dic2={3:30, 4:40} \n",
    "dic3={5:50,6:60}\n",
    "ans ={}\n",
    "\n",
    "for i in [dic1,dic2,dic3]:\n",
    "    ans.update(i)\n",
    "ans\n",
    "    "
   ]
  },
  {
   "cell_type": "markdown",
   "id": "205073de",
   "metadata": {},
   "source": [
    "# Q-4. Write a Python script to check whether a given key already exists in a dictionary.If exists then print the value corresponding to that key else print \"key not found\" error message.\n",
    "(Use: Try..Except block)"
   ]
  },
  {
   "cell_type": "code",
   "execution_count": 27,
   "id": "c3b620e3",
   "metadata": {},
   "outputs": [
    {
     "data": {
      "text/plain": [
       "'key not found'"
      ]
     },
     "execution_count": 27,
     "metadata": {},
     "output_type": "execute_result"
    }
   ],
   "source": [
    "ans = {1: 10, 2: 20, 3: 30, 4: 40, 5: 50, 6: 60}\n",
    "ans.get(7, \"key not found\")"
   ]
  },
  {
   "cell_type": "markdown",
   "id": "a15ec508",
   "metadata": {},
   "source": [
    "# Q-5. Write a Python script to generate and print a dictionary that contains a number (between 1 and n) in the form (x, x^3). Take n from user\n",
    "Sample Dictionary ( n = 5) :\n",
    "Expected Output : {1: 1, 2: 8, 3: 27, 4: 64, 5: 125}\n",
    " "
   ]
  },
  {
   "cell_type": "code",
   "execution_count": 175,
   "id": "97910747",
   "metadata": {},
   "outputs": [
    {
     "name": "stdout",
     "output_type": "stream",
     "text": [
      "Enter the number 5\n"
     ]
    },
    {
     "data": {
      "text/plain": [
       "{1: 1, 2: 8, 3: 27, 4: 64, 5: 125}"
      ]
     },
     "execution_count": 175,
     "metadata": {},
     "output_type": "execute_result"
    }
   ],
   "source": [
    "num = int(input(\"Enter the number \"))\n",
    "num1 =  []\n",
    "ans = []\n",
    "\n",
    "\n",
    "for i in range(1,num+1,1):\n",
    "        num1.append(i)\n",
    "        \n",
    "for e in num1:\n",
    "    ans.append(e**3)\n",
    "\n",
    "ans1 = dict(zip(num1,ans))\n",
    "ans1"
   ]
  },
  {
   "cell_type": "markdown",
   "id": "0e1c6519",
   "metadata": {},
   "source": [
    "# Q-6. Write a Python script to print a dictionary where the keys are numbers between 1 and 15 (both included) and the values are the square of the keys.\n",
    "Sample Dictionary\n",
    "{1: 1, 2: 4, 3: 9, 4: 16, 5: 25, 6: 36, 7: 49, 8: 64, 9: 81, 10: 100, 11: 121, 12: 144, 13: 169, 14: 196, 15: 225}"
   ]
  },
  {
   "cell_type": "code",
   "execution_count": 178,
   "id": "6d2d931e",
   "metadata": {},
   "outputs": [
    {
     "name": "stdout",
     "output_type": "stream",
     "text": [
      "Enter the number 10\n"
     ]
    },
    {
     "data": {
      "text/plain": [
       "{1: 1, 2: 4, 3: 9, 4: 16, 5: 25, 6: 36, 7: 49, 8: 64, 9: 81, 10: 100}"
      ]
     },
     "execution_count": 178,
     "metadata": {},
     "output_type": "execute_result"
    }
   ],
   "source": [
    "num = int(input(\"Enter the number \"))\n",
    "num1 =  []\n",
    "ans = []\n",
    "\n",
    "\n",
    "for i in range(1,num+1,1):\n",
    "        num1.append(i)\n",
    "        \n",
    "for e in num1:\n",
    "    ans.append(e**2)\n",
    "\n",
    "ans1 = dict(zip(num1,ans))\n",
    "ans1"
   ]
  },
  {
   "cell_type": "markdown",
   "id": "2a60fd5c",
   "metadata": {},
   "source": [
    "# Q-7. Convert two lists into a dictionary\n",
    "Sample Input:\n",
    "keys = ['Ten', 'Twenty', 'Thirty']\n",
    "values = [10, 20, 30]\n",
    "Expected output:\n",
    "{'Ten': 10, 'Twenty': 20, 'Thirty': 30}"
   ]
  },
  {
   "cell_type": "code",
   "execution_count": 180,
   "id": "591d32a3",
   "metadata": {},
   "outputs": [
    {
     "data": {
      "text/plain": [
       "{'Ten': 10, 'Twenty': 20, 'Thirty': 30}"
      ]
     },
     "execution_count": 180,
     "metadata": {},
     "output_type": "execute_result"
    }
   ],
   "source": [
    "keys = ['Ten', 'Twenty', 'Thirty']\n",
    "values = [10, 20, 30]\n",
    "\n",
    "ans = dict(zip(keys,values))\n",
    "ans"
   ]
  },
  {
   "cell_type": "markdown",
   "id": "7bc6a4de",
   "metadata": {},
   "source": [
    "# Q-8. Merge two Python dictionaries into one\n",
    "Sample Input:\n",
    "dict1 = {'Ten': 10, 'Twenty': 20, 'Thirty': 30}\n",
    "dict2 = {'Thirty': 30, 'Fourty': 40, 'Fifty': 50}\n",
    " \n",
    "Expected output:\n",
    "{'Ten': 10, 'Twenty': 20, 'Thirty': 30, 'Fourty': 40, 'Fifty': 50}"
   ]
  },
  {
   "cell_type": "code",
   "execution_count": 186,
   "id": "d7a7a70a",
   "metadata": {},
   "outputs": [
    {
     "data": {
      "text/plain": [
       "{'Ten': 10, 'Twenty': 20, 'Thirty': 30, 'Fourty': 40, 'Fifty': 50}"
      ]
     },
     "execution_count": 186,
     "metadata": {},
     "output_type": "execute_result"
    }
   ],
   "source": [
    "dict1 = {'Ten': 10, 'Twenty': 20, 'Thirty': 30}\n",
    "dict2 = {'Thirty': 30, 'Fourty': 40, 'Fifty': 50}\n",
    "\n",
    "dict1[\"Fourty\"] = 40\n",
    "dict1['Fifty'] = 50\n",
    "dict1\n"
   ]
  },
  {
   "cell_type": "markdown",
   "id": "cf2dd1b9",
   "metadata": {},
   "source": [
    "# Q-9. Delete a list of keys from a dictionary\n",
    "Given:\n",
    " \n",
    "sample_dict = {\n",
    "\"name\": \"Kelly\",\n",
    "\"age\": 25,\n",
    "\"salary\": 8000,\n",
    "\"city\": \"New york\"\n",
    "}\n",
    " \n",
    "# Keys to remove\n",
    "keys = [\"name\", \"salary\"]\n",
    "Expected output:\n",
    " \n",
    "{'city': 'New york', 'age': 25}\n",
    " "
   ]
  },
  {
   "cell_type": "code",
   "execution_count": 191,
   "id": "89df066b",
   "metadata": {},
   "outputs": [
    {
     "data": {
      "text/plain": [
       "{'age': 25, 'city': 'New york'}"
      ]
     },
     "execution_count": 191,
     "metadata": {},
     "output_type": "execute_result"
    }
   ],
   "source": [
    "sample_dict = {\"name\": \"Kelly\", \"age\": 25, \"salary\": 8000, \"city\": \"New york\"}\n",
    "\n",
    "del sample_dict[\"name\"]\n",
    "del sample_dict[\"salary\"]\n",
    "sample_dict"
   ]
  },
  {
   "cell_type": "markdown",
   "id": "d8ad4b0f",
   "metadata": {},
   "source": [
    "# Q-10. Rename key of a dictionary\n",
    "Write a program to rename a key city to a location in the following dictionary.\n",
    " \n",
    "Given:\n",
    " \n",
    "sample_dict = {\n",
    "\"name\": \"Kelly\",\n",
    "\"age\":25,\n",
    "\"salary\": 8000,\n",
    "\"city\": \"New york\"\n",
    "}\n",
    "Expected output:\n",
    " \n",
    "{'name': 'Kelly', 'age': 25, 'salary': 8000, 'location': 'New york'}"
   ]
  },
  {
   "cell_type": "code",
   "execution_count": 212,
   "id": "4c043f16",
   "metadata": {},
   "outputs": [
    {
     "data": {
      "text/plain": [
       "{'name': 'Kelly', 'age': 25, 'salary': 8000, 'location': 'New york'}"
      ]
     },
     "execution_count": 212,
     "metadata": {},
     "output_type": "execute_result"
    }
   ],
   "source": [
    "sample_dict = {\"name\": \"Kelly\", \"age\": 25, \"salary\": 8000, \"city\": \"New york\"}\n",
    "\n",
    "del sample_dict[\"city\"]\n",
    "sample_dict[\"location\"]= \"New york\"\n",
    "sample_dict "
   ]
  },
  {
   "cell_type": "markdown",
   "id": "99ed58a5",
   "metadata": {},
   "source": [
    "# Q-11. Get the key of a minimum value from the following dictionary\n",
    "sample_dict = {\n",
    "'Physics': 82,\n",
    "'Math': 65,\n",
    "'history': 75\n",
    "}\n",
    "Expected output:\n",
    " \n",
    "Math"
   ]
  },
  {
   "cell_type": "code",
   "execution_count": 19,
   "id": "eee42bd9",
   "metadata": {},
   "outputs": [
    {
     "data": {
      "text/plain": [
       "'Math'"
      ]
     },
     "execution_count": 19,
     "metadata": {},
     "output_type": "execute_result"
    }
   ],
   "source": [
    "sample_dict = {'Physics': 82,'Math': 65,'history': 75}\n",
    "\n",
    "list2 = list(sample_dict.keys())\n",
    "list1 =  list(sample_dict.values())\n",
    "\n",
    "min1 = list1.index(min(list1))\n",
    "list2[min1]"
   ]
  },
  {
   "cell_type": "code",
   "execution_count": 8,
   "id": "b2f36e61-def0-4235-89e7-51a75fcafeaa",
   "metadata": {},
   "outputs": [
    {
     "data": {
      "text/plain": [
       "'Math'"
      ]
     },
     "execution_count": 8,
     "metadata": {},
     "output_type": "execute_result"
    }
   ],
   "source": [
    "sample_dict = {'Physics': 82,'Math': 65,'history': 75}\n",
    "min(sample_dict)"
   ]
  },
  {
   "cell_type": "markdown",
   "id": "231b32bd",
   "metadata": {},
   "source": [
    "# Q-12. Write a Python program to change Brad’s salary to 8500 in the following dictionary.\n",
    " \n",
    "sample_dict = {\n",
    "'emp1': {'name': 'Jhon', 'salary': 7500},\n",
    "'emp2': {'name': 'Emma', 'salary': 8000},\n",
    "'emp3': {'name': 'Brad', 'salary': 500}\n",
    "}\n",
    "Expected output:\n",
    " \n",
    "{\n",
    "'emp1': {'name': 'Jhon', 'salary': 7500},\n",
    "'emp2': {'name': 'Emma', 'salary': 8000},\n",
    "'emp3': {'name': 'Brad', 'salary': 8500}\n",
    "}\n",
    " "
   ]
  },
  {
   "cell_type": "code",
   "execution_count": 257,
   "id": "6b62f721",
   "metadata": {},
   "outputs": [
    {
     "data": {
      "text/plain": [
       "{'emp1': {'name': 'Jhon', 'salary': 7500},\n",
       " 'emp2': {'name': 'Emma', 'salary': 8000},\n",
       " 'emp3': {'name': 'Brad', 'salary': 8500}}"
      ]
     },
     "execution_count": 257,
     "metadata": {},
     "output_type": "execute_result"
    }
   ],
   "source": [
    "sample_dict = { 'emp1': {'name': 'Jhon', 'salary': 7500}, \n",
    "               'emp2': {'name': 'Emma', 'salary': 8000}, \n",
    "               'emp3': {'name': 'Brad', 'salary': 500} }\n",
    "\n",
    "sample_dict[\"emp3\"][\"salary\"]= 8500\n",
    "sample_dict"
   ]
  },
  {
   "cell_type": "markdown",
   "id": "35994fa9",
   "metadata": {},
   "source": [
    "# Q-13. Print the value of key ‘history’ from the below dict\n",
    " \n",
    "Given:\n",
    "sampleDict = {\n",
    "\"class\": {\n",
    "\"student\": {\n",
    "\"name\": \"Mike\",\n",
    "\"marks\": {\n",
    "\"physics\": 70,\n",
    "\"history\": 80\n",
    "}\n",
    "}\n",
    "}\n",
    "}\n",
    " \n",
    "Expected output:\n",
    " \n",
    "80"
   ]
  },
  {
   "cell_type": "code",
   "execution_count": 265,
   "id": "ee7e133c",
   "metadata": {},
   "outputs": [
    {
     "data": {
      "text/plain": [
       "80"
      ]
     },
     "execution_count": 265,
     "metadata": {},
     "output_type": "execute_result"
    }
   ],
   "source": [
    "sampleDict = { \"class\": { \"student\": { \"name\": \"Mike\", \"marks\": { \"physics\": 70, \"history\": 80 } } } }\n",
    "\n",
    "sampleDict[\"class\"][\"student\"][\"marks\"][\"history\"]"
   ]
  },
  {
   "cell_type": "markdown",
   "id": "2feff0bf",
   "metadata": {},
   "source": [
    "# Q-14. Write a Python program to combine two dictionary by adding values for common keys.\n",
    "d1 = {'a': 100, 'b': 200, 'c':300}\n",
    "d2 = {'a': 300, 'b': 200, 'd':400}\n",
    "Sample output: Counter({'a': 400, 'b': 400, 'd': 400, 'c': 300})"
   ]
  },
  {
   "cell_type": "code",
   "execution_count": 355,
   "id": "a62ebe20",
   "metadata": {},
   "outputs": [
    {
     "data": {
      "text/plain": [
       "{'a': 400, 'b': 400, 'c': 400, 'd': 300}"
      ]
     },
     "execution_count": 355,
     "metadata": {},
     "output_type": "execute_result"
    }
   ],
   "source": [
    "d1 = {'a': 100, 'b': 200, 'c':300}\n",
    "d2 = {'a': 300, 'b': 200, 'd':400}\n",
    "\n",
    "\n",
    "d2[\"a\"] = 400\n",
    "d2[\"b\"] = 400\n",
    "d2[\"c\"] = 300\n",
    "d1[\"d\"] = 400\n",
    "\n",
    "ans = dict(zip(d1,d2.values()))\n",
    "ans"
   ]
  },
  {
   "cell_type": "code",
   "execution_count": 20,
   "id": "25a7d0de-9410-435b-b07d-ce44bc13887b",
   "metadata": {},
   "outputs": [
    {
     "data": {
      "text/plain": [
       "{'a': 400, 'b': 400, 'c': 300, 'd': 400}"
      ]
     },
     "execution_count": 20,
     "metadata": {},
     "output_type": "execute_result"
    }
   ],
   "source": [
    "d1 = {'a': 100, 'b': 200, 'c':300}\n",
    "d2 = {'a': 300, 'b': 200, 'd':400}\n",
    "d11=list(d1.items())\n",
    "d22=list(d2.items())\n",
    "\n",
    "for i in range(len(d11)):\n",
    "    if d11[i][0] ==d22[i][0]:\n",
    "        d1.update({d11[i][0]:d11[i][1]+d22[i][1]})\n",
    "    else:\n",
    "        d1.update({d11[i][0]:d11[i][1]})\n",
    "        d1.update({d22[i][0]:d22[i][1]})\n",
    "d1\n",
    "       "
   ]
  },
  {
   "cell_type": "markdown",
   "id": "778cc8de",
   "metadata": {},
   "source": [
    "# Q-15. Write a Python program to print all distinct values in a dictionary.\n",
    "Sample Data : [{\"V\":\"S001\"}, {\"V\": \"S002\"}, {\"VI\": \"S001\"}, {\"VI\": \"S005\"}, {\"VII\":\"S005\"}, {\"V\":\"S009\"},{\"VIII\":\"S007\"}]\n",
    "Expected Output : Unique Values: {'S005', 'S002', 'S007', 'S001', 'S009'}"
   ]
  },
  {
   "cell_type": "code",
   "execution_count": 387,
   "id": "88be2a9c",
   "metadata": {},
   "outputs": [
    {
     "data": {
      "text/plain": [
       "{'S001', 'S002', 'S005', 'S007', 'S009'}"
      ]
     },
     "execution_count": 387,
     "metadata": {},
     "output_type": "execute_result"
    }
   ],
   "source": [
    "SampleData = [{\"V\":\"S001\"}, {\"V\": \"S002\"}, {\"VI\": \"S001\"}, {\"VI\": \"S005\"}, {\"VII\":\"S005\"}, {\"V\":\"S009\"},{\"VIII\":\"S007\"}]\n",
    "\n",
    "a = {SampleData[0][\"V\"],SampleData[1][\"V\"],SampleData[2][\"VI\"],SampleData[3][\"VI\"],SampleData[4][\"VII\"],SampleData[5][\"V\"],SampleData[6][\"VIII\"]}\n",
    "a"
   ]
  },
  {
   "cell_type": "markdown",
   "id": "187d1f74",
   "metadata": {},
   "source": [
    "# Q-16. Write a Python program to combine values in a list of dictionaries.\n",
    "Sample data: [{'item': 'item1', 'amount': 400}, {'item': 'item2', 'amount': 300}, {'item': 'item1', 'amount': 750}]\n",
    "Expected Output: Counter({'item1': 1150, 'item2': 300})"
   ]
  },
  {
   "cell_type": "code",
   "execution_count": 1,
   "id": "a693379c",
   "metadata": {},
   "outputs": [
    {
     "data": {
      "text/plain": [
       "{'item1': 1150, 'item2': 300}"
      ]
     },
     "execution_count": 1,
     "metadata": {},
     "output_type": "execute_result"
    }
   ],
   "source": [
    "d=[{'item': 'item1', 'amount': 400}, {'item': 'item2', 'amount': 300}, {'item': 'item1', 'amount': 750}]\n",
    "dd=[]\n",
    "for i in d:\n",
    "    dd.append(list(i.values()))\n",
    "ddd=[]\n",
    "if dd[0][0]==dd[1][0]:\n",
    "    ddd.append([dd[0][0],dd[0][1]+dd[1][1]])\n",
    "    ddd.append([dd[2][0],dd[2][1]])\n",
    "elif dd[1][0]==dd[2][0]:\n",
    "    ddd.append([dd[1][0],dd[1][1]+dd[2][1]])\n",
    "    ddd.append([dd[0][0],dd[0][1]])\n",
    "elif dd[0][0]==dd[2][0]:\n",
    "    ddd.append([dd[0][0],dd[0][1]+dd[2][1]])\n",
    "    ddd.append([dd[1][0],dd[1][1]])\n",
    "ddd=dict(ddd)\n",
    "ddd"
   ]
  },
  {
   "cell_type": "code",
   "execution_count": 7,
   "id": "e9d5c174",
   "metadata": {},
   "outputs": [
    {
     "data": {
      "text/plain": [
       "[{'item': 'item1', 'amount': 1150}, {'item': 'item2', 'amount': 300}]"
      ]
     },
     "execution_count": 7,
     "metadata": {},
     "output_type": "execute_result"
    }
   ],
   "source": [
    "Sampledata= [{'item': 'item1', 'amount': 400}, {'item': 'item2', 'amount': 300}, {'item': 'item1', 'amount': 750}]\n",
    "\n",
    "Sampledata[0][\"amount\"]= 1150\n",
    "del Sampledata[2]\n",
    "Sampledata"
   ]
  },
  {
   "cell_type": "markdown",
   "id": "e37bb0e0",
   "metadata": {},
   "source": [
    "# Functions Assignment"
   ]
  },
  {
   "cell_type": "markdown",
   "id": "a28d0045-e402-479b-85a4-78d1de74a43f",
   "metadata": {},
   "source": [
    "# Q -1.Write a program that asks the user for two numbers. Then ask them if they would like to add, subtract, divide, or multiply these numbers. Perform the chosen operation on the values, showing the operation being performed. Write four functions, one for each mathematical operation.\n",
    "Example: add(), subtract(), Multiply(), and Divide() functions should be written to perform calculations."
   ]
  },
  {
   "cell_type": "code",
   "execution_count": 2,
   "id": "166c49c8-3bc0-4e96-9c0a-533b83a0df7d",
   "metadata": {},
   "outputs": [
    {
     "data": {
      "text/plain": [
       "9"
      ]
     },
     "execution_count": 2,
     "metadata": {},
     "output_type": "execute_result"
    }
   ],
   "source": [
    "def addtion(int1,int2):\n",
    "    return int1 +int2 \n",
    "\n",
    "addtion(4,5)"
   ]
  },
  {
   "cell_type": "code",
   "execution_count": 4,
   "id": "0ce850be-1439-4fbd-a850-a8cb0b7f6bb5",
   "metadata": {},
   "outputs": [
    {
     "data": {
      "text/plain": [
       "4"
      ]
     },
     "execution_count": 4,
     "metadata": {},
     "output_type": "execute_result"
    }
   ],
   "source": [
    "def subtract(int1 , int2):\n",
    "    return int1 - int2\n",
    "\n",
    "subtract(10,6)"
   ]
  },
  {
   "cell_type": "code",
   "execution_count": 8,
   "id": "a01f0012-a78b-42ef-aec8-b7d5a63794f8",
   "metadata": {},
   "outputs": [
    {
     "data": {
      "text/plain": [
       "2.0"
      ]
     },
     "execution_count": 8,
     "metadata": {},
     "output_type": "execute_result"
    }
   ],
   "source": [
    "def divide(int1,int2):\n",
    "    return int1/int2\n",
    "\n",
    "divide(10,5)"
   ]
  },
  {
   "cell_type": "code",
   "execution_count": 9,
   "id": "994cac62-fb31-46e9-b818-6fa348047444",
   "metadata": {},
   "outputs": [
    {
     "data": {
      "text/plain": [
       "10"
      ]
     },
     "execution_count": 9,
     "metadata": {},
     "output_type": "execute_result"
    }
   ],
   "source": [
    "def multiply(int1,int2):\n",
    "    return int1 * int2\n",
    "\n",
    "multiply(5,2)"
   ]
  },
  {
   "cell_type": "markdown",
   "id": "5f0339b8-f016-484f-a0e7-7e121d1ebfa3",
   "metadata": {},
   "source": [
    "# Q-2. Write a function called favorite_book() that accepts two parameter, title and author. The function should print a message, such as \"Ansi C by E Balagurusamy\". Call the function, make sure to include a book title and author as an argument in the function call."
   ]
  },
  {
   "cell_type": "code",
   "execution_count": 18,
   "id": "ae4bc7dc-74b0-4338-b33a-5b454bc51547",
   "metadata": {},
   "outputs": [
    {
     "data": {
      "text/plain": [
       "'Ansi C by E Balagurusamy'"
      ]
     },
     "execution_count": 18,
     "metadata": {},
     "output_type": "execute_result"
    }
   ],
   "source": [
    "def favorite_book(str1,str2):\n",
    "    return str1 + \" \"+ \"by\"+\" \"+ str2\n",
    "\n",
    "favorite_book(\"Ansi C\",\"E Balagurusamy\")"
   ]
  },
  {
   "cell_type": "markdown",
   "id": "9067ee53-b00c-4baa-9ec0-98d5131216be",
   "metadata": {},
   "source": [
    "# Q-3. Write a function called is_leap() that accepts one parameter i.e. year. The function should check whether the year is a leap year or not."
   ]
  },
  {
   "cell_type": "code",
   "execution_count": 35,
   "id": "2c359658-ef98-4581-a839-bb27da20fba2",
   "metadata": {},
   "outputs": [
    {
     "data": {
      "text/plain": [
       "'2024 is yes'"
      ]
     },
     "execution_count": 35,
     "metadata": {},
     "output_type": "execute_result"
    }
   ],
   "source": [
    "def is_leap(int1):\n",
    "    if int1 % 4 == 0:\n",
    "       return f\"{int1} is yes\"\n",
    "    else:\n",
    "        return f\"{int1} is No\"\n",
    "        \n",
    "is_leap(2024)"
   ]
  },
  {
   "cell_type": "markdown",
   "id": "ac27fe8e-cf92-4e07-8e94-a59003f864fc",
   "metadata": {},
   "source": [
    "# Q-4. Write a Python function to find the maximum of three number.\n"
   ]
  },
  {
   "cell_type": "code",
   "execution_count": 50,
   "id": "ecefb58b-3dcf-4779-984e-ee1f6f9c1919",
   "metadata": {},
   "outputs": [
    {
     "data": {
      "text/plain": [
       "4888"
      ]
     },
     "execution_count": 50,
     "metadata": {},
     "output_type": "execute_result"
    }
   ],
   "source": [
    "def max(int1,int2,int3):\n",
    "    if int1 >int2 and int1 > int3:\n",
    "        return int1\n",
    "    elif int2 > int1 and int2 > int3:\n",
    "        return int2\n",
    "    else:\n",
    "        return int3\n",
    "    \n",
    "\n",
    "\n",
    "max(4888,4,8)"
   ]
  },
  {
   "cell_type": "markdown",
   "id": "d851ffd5-80f5-479e-9d5c-bf4e781a62e2",
   "metadata": {},
   "source": [
    "# Q-5. Write a Python function to multiply all the numbers in a list.\n",
    "Sample List : (8, 2, 3, -1, 7)\n",
    "Expected Output : -336"
   ]
  },
  {
   "cell_type": "code",
   "execution_count": 1,
   "id": "a799d0bc-6068-41ef-8b77-6e7e27a0ab1c",
   "metadata": {},
   "outputs": [
    {
     "data": {
      "text/plain": [
       "87480"
      ]
     },
     "execution_count": 1,
     "metadata": {},
     "output_type": "execute_result"
    }
   ],
   "source": [
    "def mul(*int):\n",
    "    ans = 1\n",
    "    for i in int:\n",
    "        ans = i * ans\n",
    "    return ans\n",
    "\n",
    "mul(2,3,54,54,5)"
   ]
  },
  {
   "cell_type": "markdown",
   "id": "667ba7df-6893-4019-ab46-596e06dd8377",
   "metadata": {},
   "source": [
    "# Q-6. Write a Python program to reverse a string.\n",
    "Sample String : \"1234abcd\"\n",
    "Expected Output : \"dcba4321\""
   ]
  },
  {
   "cell_type": "code",
   "execution_count": 21,
   "id": "118c367d-d3de-4c8f-a762-8ef92ab814db",
   "metadata": {},
   "outputs": [
    {
     "data": {
      "text/plain": [
       "'dcba4321'"
      ]
     },
     "execution_count": 21,
     "metadata": {},
     "output_type": "execute_result"
    }
   ],
   "source": [
    "def rev(str):\n",
    "    list1= list(str)\n",
    "    ans = list1[-1::-1]\n",
    "    return ''.join(ans)\n",
    "\n",
    "rev(\"1234abcd\")"
   ]
  },
  {
   "cell_type": "markdown",
   "id": "4d013f2a-2495-4b88-87ae-e93766f4c3e0",
   "metadata": {},
   "source": [
    "# Q-7. Write a Python function to calculate the factorial of a number (a non-negative integer). The function accepts the number as an argument."
   ]
  },
  {
   "cell_type": "code",
   "execution_count": 11,
   "id": "0a55774e-c18b-4412-8e6a-a3573d5c1624",
   "metadata": {},
   "outputs": [
    {
     "data": {
      "text/plain": [
       "120"
      ]
     },
     "execution_count": 11,
     "metadata": {},
     "output_type": "execute_result"
    }
   ],
   "source": [
    "def fac(int1):\n",
    "    list1 = 1\n",
    "    for i in list(range(int1,0,-1)):\n",
    "        list1 = list1*i\n",
    "    return list1\n",
    "\n",
    "fac(5)"
   ]
  },
  {
   "cell_type": "markdown",
   "id": "eb256ba7-2720-469d-b077-44f57536b32a",
   "metadata": {},
   "source": [
    "# Q-8. Write a Python function that accepts a string and counts the number of upper and lower case letters.\n",
    "Sample String : 'The quick Brow Fox'\n",
    "Expected Output :\n",
    "No. of Upper case characters : 3\n",
    "No. of Lower case Characters : 12"
   ]
  },
  {
   "cell_type": "code",
   "execution_count": 1,
   "id": "80856dc1-f2b7-49ec-8a90-69b8fbb573e5",
   "metadata": {},
   "outputs": [
    {
     "name": "stdout",
     "output_type": "stream",
     "text": [
      "No. of Upper case characters : 1\n",
      "No. of Lower case Characters : 4\n"
     ]
    }
   ],
   "source": [
    "def uplo(st):\n",
    "    up=\"QWERTYUIOPASDFGHJKLZXCVBNM\"\n",
    "    lo=\"qwertyuiopasdfghjklzxcvbnm\"\n",
    "    nup=0\n",
    "    nlo=0\n",
    "    for i in st:\n",
    "        if i in up:\n",
    "            nup+=1\n",
    "        if i in lo:\n",
    "            nlo+=1\n",
    "    print(f\"No. of Upper case characters : {nup}\")\n",
    "    print(f\"No. of Lower case Characters : {nlo}\")\n",
    "\n",
    "uplo('Harsh')"
   ]
  },
  {
   "cell_type": "markdown",
   "id": "effffd2c-a3c1-4b9b-9ce6-4d91e95b0ea9",
   "metadata": {},
   "source": [
    "# Q-9. Write a Python function that takes a list and returns a new list with distinct elements from the first list.\n",
    " "
   ]
  },
  {
   "cell_type": "code",
   "execution_count": 28,
   "id": "feca7cf9-0261-4470-b0a6-a16d4225c280",
   "metadata": {},
   "outputs": [
    {
     "data": {
      "text/plain": [
       "{'Harsh'}"
      ]
     },
     "execution_count": 28,
     "metadata": {},
     "output_type": "execute_result"
    }
   ],
   "source": [
    "def dis(*str):\n",
    "    str_set = {*str}\n",
    "    return str_set\n",
    "\n",
    "dis(\"Harsh\",\"Harsh\")"
   ]
  },
  {
   "cell_type": "markdown",
   "id": "8393aa26-be6c-441c-9bf0-d66a4575b97d",
   "metadata": {},
   "source": [
    "# Q-10. Write a Python program to print the even numbers from a given list."
   ]
  },
  {
   "cell_type": "code",
   "execution_count": 54,
   "id": "0e6d18ac-0221-45af-bcd2-d68f10fba8c9",
   "metadata": {},
   "outputs": [
    {
     "data": {
      "text/plain": [
       "[8]"
      ]
     },
     "execution_count": 54,
     "metadata": {},
     "output_type": "execute_result"
    }
   ],
   "source": [
    "def even(*int):\n",
    "    ans = []\n",
    "    for i in int:\n",
    "        if i%2 == 0:\n",
    "            ans.append(i)\n",
    "            return ans\n",
    "\n",
    "even(1,5,3,8,6)\n"
   ]
  },
  {
   "cell_type": "markdown",
   "id": "c1167d4b-aca1-4780-98d0-7137a64b7e9a",
   "metadata": {},
   "source": [
    "# Q-11. Write a Python function that checks whether a passed string is a palindrome or not.\n",
    "Note: A palindrome is a word, phrase, or sequence that reads the same backward as forward, e.g., madam or nurses run."
   ]
  },
  {
   "cell_type": "code",
   "execution_count": 55,
   "id": "0abf971e-6d42-4b82-89ab-49a32b18294b",
   "metadata": {},
   "outputs": [
    {
     "data": {
      "text/plain": [
       "'yes'"
      ]
     },
     "execution_count": 55,
     "metadata": {},
     "output_type": "execute_result"
    }
   ],
   "source": [
    "def pali(str):\n",
    "    if str[-1::-1]==str:\n",
    "        return \"yes\"\n",
    "    else:\n",
    "        return \"no\"\n",
    "\n",
    "pali(\"MOM\")"
   ]
  },
  {
   "cell_type": "markdown",
   "id": "2f0d9508-107d-40b5-bbce-bb431b31fc4d",
   "metadata": {},
   "source": [
    "# Q-12. Write a Python function to check whether a string is a pangram or not.\n",
    "Note : Pangrams are words or sentences containing every letter of the alphabet at least once.\n",
    "For example : \"The quick brown fox jumps over the lazy dog\""
   ]
  },
  {
   "cell_type": "code",
   "execution_count": 2,
   "id": "fcb4b07a-dee7-48cf-b52b-b3aef8e00e38",
   "metadata": {},
   "outputs": [
    {
     "data": {
      "text/plain": [
       "'Yes'"
      ]
     },
     "execution_count": 2,
     "metadata": {},
     "output_type": "execute_result"
    }
   ],
   "source": [
    "def all(typ):\n",
    "    h = \"q w e r t y u i o p a s d f g h j k l z x c v b n m\"\n",
    "    j = h.split()\n",
    "    r =typ.replace(' ','')\n",
    "    e = r.replace('',' ').split()\n",
    "    \n",
    "    for i in h:\n",
    "        if i in e:\n",
    "            return \"Yes\"\n",
    "        else:\n",
    "            return \"No\"\n",
    "\n",
    "all(\"The quick brown fox jumps over the lazy dog\")"
   ]
  },
  {
   "cell_type": "markdown",
   "id": "ccd3a2a4-e22f-4fca-87ad-4350c8d1c1a5",
   "metadata": {},
   "source": [
    "# Q-13. Write a Python program that accepts a hyphen-separated sequence of words as input and prints the words in a hyphen-separated sequence after sorting them alphabetically.¶\n",
    "Sample Items : green-red-yellow-black-white Expected Result : black-green-red-white-yellow"
   ]
  },
  {
   "cell_type": "code",
   "execution_count": 2,
   "id": "db1c6ba3-81f3-4412-a0a3-66d1a1ade4ea",
   "metadata": {},
   "outputs": [
    {
     "name": "stdout",
     "output_type": "stream",
     "text": [
      "black-green-red-white-yellow\n"
     ]
    }
   ],
   "source": [
    "def sortbyhyphen(st):\n",
    "    sp=st.split(\"-\")\n",
    "    sp=tuple(sorted(sp))\n",
    "    sp=\"-\".join(sp)\n",
    "    print(sp)\n",
    "\n",
    "sortbyhyphen(\"green-red-yellow-black-white\")"
   ]
  },
  {
   "cell_type": "markdown",
   "id": "0008ff44-51da-4eb6-9480-c4a47885a5c1",
   "metadata": {},
   "source": [
    "# Q-14. Write a Python function to create and print a list where the values are the squares of numbers between 1 and 30 (both included)."
   ]
  },
  {
   "cell_type": "code",
   "execution_count": 2,
   "id": "a262a562-faf9-4838-8d20-e1ac750c0849",
   "metadata": {},
   "outputs": [
    {
     "data": {
      "text/plain": [
       "[1, 8, 27, 64, 125]"
      ]
     },
     "execution_count": 2,
     "metadata": {},
     "output_type": "execute_result"
    }
   ],
   "source": [
    "def seq(int):\n",
    "    ran= list(range(1,int+1,1))\n",
    "    ans = []\n",
    "    \n",
    "    for i in ran:\n",
    "        ans.append(i**3)\n",
    "    return ans\n",
    "seq(5)"
   ]
  },
  {
   "cell_type": "markdown",
   "id": "ffe42195-dc52-4a0f-8da0-622f9eb14d1d",
   "metadata": {},
   "source": [
    "# Q-15. Write a program to create a function show_employee() using the following conditions.¶\n",
    "It should accept the employee’s name and salary and display both. If the salary is missing in the function call then assign default value 9000 to salary"
   ]
  },
  {
   "cell_type": "code",
   "execution_count": null,
   "id": "1ede302f-bff4-494e-a340-7b4ebfef1344",
   "metadata": {},
   "outputs": [],
   "source": [
    "def show_employee(str,int=9000):\n",
    "    return print(str,int)\n",
    "\n",
    "show_employee(\"harsh\",)"
   ]
  },
  {
   "cell_type": "markdown",
   "id": "7b06513b-9ecb-4caf-a7f3-44ee5b04e7d4",
   "metadata": {},
   "source": [
    "# Q-16. Write a program to swap two numbers.\n",
    "Before swap : 17 24 After swap : 24 17 Solution given below: (Just for your reference) def SwapTwoNumbers(a,b): print(\"Before Swap: \",a,b) a = a+b b = a-b a = a-b return a,b a,b = SwapTwoNumbers(17,24) print(\"After Swap: \",a,b)"
   ]
  },
  {
   "cell_type": "code",
   "execution_count": 5,
   "id": "d59e5f05-f248-473d-87b8-f3f381ecc7ce",
   "metadata": {},
   "outputs": [
    {
     "data": {
      "text/plain": [
       "(2, 1)"
      ]
     },
     "execution_count": 5,
     "metadata": {},
     "output_type": "execute_result"
    }
   ],
   "source": [
    "a = 1 + 2\n",
    "b = a - 2\n",
    "a = a - b\n",
    "\n",
    "a,b"
   ]
  },
  {
   "cell_type": "code",
   "execution_count": 6,
   "id": "6156ce73-b94f-4c05-a9a7-9a0f948902c8",
   "metadata": {},
   "outputs": [
    {
     "data": {
      "text/plain": [
       "(66, 14)"
      ]
     },
     "execution_count": 6,
     "metadata": {},
     "output_type": "execute_result"
    }
   ],
   "source": [
    "def swap(int1,int2):\n",
    "    int1 = int1 + int2\n",
    "    int2 = int1 - int2\n",
    "    int1 = int1 - int2\n",
    "    return int1,int2\n",
    "\n",
    "swap(14,66)"
   ]
  }
 ],
 "metadata": {
  "kernelspec": {
   "display_name": "Python 3 (ipykernel)",
   "language": "python",
   "name": "python3"
  },
  "language_info": {
   "codemirror_mode": {
    "name": "ipython",
    "version": 3
   },
   "file_extension": ".py",
   "mimetype": "text/x-python",
   "name": "python",
   "nbconvert_exporter": "python",
   "pygments_lexer": "ipython3",
   "version": "3.11.3"
  }
 },
 "nbformat": 4,
 "nbformat_minor": 5
}
